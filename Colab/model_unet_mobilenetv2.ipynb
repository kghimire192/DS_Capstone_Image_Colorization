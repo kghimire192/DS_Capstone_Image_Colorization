{
  "nbformat": 4,
  "nbformat_minor": 0,
  "metadata": {
    "colab": {
      "name": "model_unet_mobilenetv2.ipynb",
      "provenance": [],
      "machine_shape": "hm"
    },
    "kernelspec": {
      "name": "python3",
      "display_name": "Python 3"
    },
    "accelerator": "GPU"
  },
  "cells": [
    {
      "cell_type": "markdown",
      "metadata": {
        "id": "N9z58P_PzQSk",
        "colab_type": "text"
      },
      "source": [
        "# Image Colorization Using Deep Learning"
      ]
    },
    {
      "cell_type": "markdown",
      "metadata": {
        "id": "4_-sjKrWzTCg",
        "colab_type": "text"
      },
      "source": [
        "# Set-Up"
      ]
    },
    {
      "cell_type": "code",
      "metadata": {
        "id": "wq7H7NSLzXam",
        "colab_type": "code",
        "colab": {}
      },
      "source": [
        "import math\n",
        "import numpy as np\n",
        "import tensorflow as tf\n",
        "import matplotlib.pyplot as plt\n",
        "from tensorflow.keras.layers import *\n",
        "from tensorflow.keras.models import Model\n",
        "from tensorflow.keras.models import load_model\n",
        "from tensorflow.keras.applications.vgg16 import *\n",
        "\n",
        "import os\n",
        "import cv2\n",
        "from google.colab.patches import cv2_imshow\n",
        "\n",
        "from sklearn.model_selection import train_test_split\n",
        "\n",
        "tf.random.set_seed(42) \n",
        "np.random.seed(42)\n"
      ],
      "execution_count": 0,
      "outputs": []
    },
    {
      "cell_type": "code",
      "metadata": {
        "id": "b6oz5jMe3O5l",
        "colab_type": "code",
        "outputId": "dac6cfa8-76ff-4442-a1a5-dbb781f4f292",
        "colab": {
          "base_uri": "https://localhost:8080/",
          "height": 394
        }
      },
      "source": [
        "!pip install segmentation_models\n",
        "import segmentation_models as sm"
      ],
      "execution_count": 2,
      "outputs": [
        {
          "output_type": "stream",
          "text": [
            "Requirement already satisfied: segmentation_models in /usr/local/lib/python3.6/dist-packages (1.0.1)\n",
            "Requirement already satisfied: efficientnet==1.0.0 in /usr/local/lib/python3.6/dist-packages (from segmentation_models) (1.0.0)\n",
            "Requirement already satisfied: image-classifiers==1.0.0 in /usr/local/lib/python3.6/dist-packages (from segmentation_models) (1.0.0)\n",
            "Requirement already satisfied: keras-applications<=1.0.8,>=1.0.7 in /usr/local/lib/python3.6/dist-packages (from segmentation_models) (1.0.8)\n",
            "Requirement already satisfied: scikit-image in /usr/local/lib/python3.6/dist-packages (from efficientnet==1.0.0->segmentation_models) (0.16.2)\n",
            "Requirement already satisfied: numpy>=1.9.1 in /usr/local/lib/python3.6/dist-packages (from keras-applications<=1.0.8,>=1.0.7->segmentation_models) (1.18.3)\n",
            "Requirement already satisfied: h5py in /usr/local/lib/python3.6/dist-packages (from keras-applications<=1.0.8,>=1.0.7->segmentation_models) (2.10.0)\n",
            "Requirement already satisfied: networkx>=2.0 in /usr/local/lib/python3.6/dist-packages (from scikit-image->efficientnet==1.0.0->segmentation_models) (2.4)\n",
            "Requirement already satisfied: matplotlib!=3.0.0,>=2.0.0 in /usr/local/lib/python3.6/dist-packages (from scikit-image->efficientnet==1.0.0->segmentation_models) (3.2.1)\n",
            "Requirement already satisfied: imageio>=2.3.0 in /usr/local/lib/python3.6/dist-packages (from scikit-image->efficientnet==1.0.0->segmentation_models) (2.4.1)\n",
            "Requirement already satisfied: PyWavelets>=0.4.0 in /usr/local/lib/python3.6/dist-packages (from scikit-image->efficientnet==1.0.0->segmentation_models) (1.1.1)\n",
            "Requirement already satisfied: scipy>=0.19.0 in /usr/local/lib/python3.6/dist-packages (from scikit-image->efficientnet==1.0.0->segmentation_models) (1.4.1)\n",
            "Requirement already satisfied: pillow>=4.3.0 in /usr/local/lib/python3.6/dist-packages (from scikit-image->efficientnet==1.0.0->segmentation_models) (7.0.0)\n",
            "Requirement already satisfied: six in /usr/local/lib/python3.6/dist-packages (from h5py->keras-applications<=1.0.8,>=1.0.7->segmentation_models) (1.12.0)\n",
            "Requirement already satisfied: decorator>=4.3.0 in /usr/local/lib/python3.6/dist-packages (from networkx>=2.0->scikit-image->efficientnet==1.0.0->segmentation_models) (4.4.2)\n",
            "Requirement already satisfied: cycler>=0.10 in /usr/local/lib/python3.6/dist-packages (from matplotlib!=3.0.0,>=2.0.0->scikit-image->efficientnet==1.0.0->segmentation_models) (0.10.0)\n",
            "Requirement already satisfied: python-dateutil>=2.1 in /usr/local/lib/python3.6/dist-packages (from matplotlib!=3.0.0,>=2.0.0->scikit-image->efficientnet==1.0.0->segmentation_models) (2.8.1)\n",
            "Requirement already satisfied: pyparsing!=2.0.4,!=2.1.2,!=2.1.6,>=2.0.1 in /usr/local/lib/python3.6/dist-packages (from matplotlib!=3.0.0,>=2.0.0->scikit-image->efficientnet==1.0.0->segmentation_models) (2.4.7)\n",
            "Requirement already satisfied: kiwisolver>=1.0.1 in /usr/local/lib/python3.6/dist-packages (from matplotlib!=3.0.0,>=2.0.0->scikit-image->efficientnet==1.0.0->segmentation_models) (1.2.0)\n",
            "Segmentation Models: using `keras` framework.\n"
          ],
          "name": "stdout"
        },
        {
          "output_type": "stream",
          "text": [
            "Using TensorFlow backend.\n"
          ],
          "name": "stderr"
        }
      ]
    },
    {
      "cell_type": "code",
      "metadata": {
        "id": "zjrPYfXvcuUU",
        "colab_type": "code",
        "outputId": "d861212d-6d3e-4d28-a719-4aa3412e4543",
        "colab": {
          "base_uri": "https://localhost:8080/",
          "height": 34
        }
      },
      "source": [
        "# !pip install segmentation-models\n",
        "\n",
        "# !pip install -U segmentation-models==0.2.1\n",
        "\n",
        "# pip install git+https://github.com/qubvel/segmentation_models\n",
        "\n",
        "sm.set_framework('tf.keras')\n",
        "print(sm.__version__)"
      ],
      "execution_count": 3,
      "outputs": [
        {
          "output_type": "stream",
          "text": [
            "1.0.1\n"
          ],
          "name": "stdout"
        }
      ]
    },
    {
      "cell_type": "markdown",
      "metadata": {
        "id": "gircjk3JzdLz",
        "colab_type": "text"
      },
      "source": [
        "# Data Preparation"
      ]
    },
    {
      "cell_type": "markdown",
      "metadata": {
        "id": "OgamuPzgzj6C",
        "colab_type": "text"
      },
      "source": [
        "## Key Variables"
      ]
    },
    {
      "cell_type": "code",
      "metadata": {
        "id": "lTA2IOeezpk1",
        "colab_type": "code",
        "colab": {}
      },
      "source": [
        "IMG_SIZE     = [224, 224]\n",
        "N_CHANNELS   = 3\n",
        "N_CLASSES = 169\n",
        "DIR_BASE = '/content/drive/My Drive/train_test/'\n",
        "# PRED_DIR = '/content/drive/My Drive/prediction/'\n",
        "VALID_SIZE  = 0.1765\n",
        "BATCH_SIZE     = 8"
      ],
      "execution_count": 0,
      "outputs": []
    },
    {
      "cell_type": "markdown",
      "metadata": {
        "id": "y8ejEmRkztoF",
        "colab_type": "text"
      },
      "source": [
        "## Loading Data"
      ]
    },
    {
      "cell_type": "code",
      "metadata": {
        "id": "OzYSCXQ56Wta",
        "colab_type": "code",
        "colab": {}
      },
      "source": [
        "x_train = np.load(file=DIR_BASE+\"x_train.npy\", allow_pickle=True)\n",
        "y_train = np.load(file=DIR_BASE+\"y_train.npy\", allow_pickle=True)\n",
        "print(x_train.shape)\n",
        "print(y_train.shape)"
      ],
      "execution_count": 0,
      "outputs": []
    },
    {
      "cell_type": "code",
      "metadata": {
        "id": "vlK5AcYxbX7u",
        "colab_type": "code",
        "outputId": "49a0d411-f7ff-4fdc-838d-97bf4d798e56",
        "colab": {
          "base_uri": "https://localhost:8080/",
          "height": 51
        }
      },
      "source": [
        "x_test = np.load(file=DIR_BASE+\"x_test.npy\", allow_pickle=True)\n",
        "y_test = np.load(file=DIR_BASE+\"y_test.npy\", allow_pickle=True)\n",
        "print(x_test.shape)\n",
        "print(y_test.shape)"
      ],
      "execution_count": 0,
      "outputs": [
        {
          "output_type": "stream",
          "text": [
            "(2768, 224, 224, 3)\n",
            "(2768, 224, 224)\n"
          ],
          "name": "stdout"
        }
      ]
    },
    {
      "cell_type": "code",
      "metadata": {
        "id": "PDX1hoOibYX7",
        "colab_type": "code",
        "colab": {}
      },
      "source": [
        "# x_valid = np.load(file=DIR_BASE + \"x_valid_new.npy\", allow_pickle=True)\n",
        "# y_valid = np.load(file=DIR_BASE + \"y_valid_new.npy\", allow_pickle=True)\n",
        "# print(x_valid.shape)\n",
        "# print(y_valid.shape)"
      ],
      "execution_count": 0,
      "outputs": []
    },
    {
      "cell_type": "code",
      "metadata": {
        "id": "_UwHtKbKLWZH",
        "colab_type": "code",
        "colab": {}
      },
      "source": [
        "\n",
        "class CustomDataGenerator(tf.keras.utils.Sequence):\n",
        "\n",
        "        def __init__(self, x_set, y_set, batch_size, num_classes=N_CLASSES):\n",
        "            self.x, self.y = x_set, y_set\n",
        "            self.batch_size = batch_size\n",
        "            self.n_classes = num_classes\n",
        "\n",
        "        def __len__(self):\n",
        "            return math.ceil(len(self.x) / self.batch_size)\n",
        "\n",
        "        def __getitem__(self, idx):\n",
        "            batch_x = self.x[idx * self.batch_size:(idx + 1) *\n",
        "            self.batch_size]\n",
        "            batch_y = self.y[idx * self.batch_size:(idx + 1) *\n",
        "            self.batch_size]\n",
        "\n",
        "            batch_y = tf.keras.utils.to_categorical(y=batch_y, \n",
        "                                                    num_classes=self.n_classes)\n",
        "            \n",
        "            return batch_x, batch_y           "
      ],
      "execution_count": 0,
      "outputs": []
    },
    {
      "cell_type": "code",
      "metadata": {
        "id": "wS9knL71PohM",
        "colab_type": "code",
        "colab": {}
      },
      "source": [
        "training_generator = CustomDataGenerator(x_train, y_train, batch_size=BATCH_SIZE)\n",
        "validation_generator = CustomDataGenerator(x_test, y_test, batch_size=BATCH_SIZE)\n",
        "# testing_generator = CustomDataGenerator(x_test, y_test, batch_size=BATCH_SIZE)"
      ],
      "execution_count": 0,
      "outputs": []
    },
    {
      "cell_type": "markdown",
      "metadata": {
        "id": "3Fb4R4pnz69Z",
        "colab_type": "text"
      },
      "source": [
        "# Model Architecture"
      ]
    },
    {
      "cell_type": "markdown",
      "metadata": {
        "id": "p4STlUrYz9ZA",
        "colab_type": "text"
      },
      "source": [
        "## Model Building"
      ]
    },
    {
      "cell_type": "code",
      "metadata": {
        "id": "tUeXDPFY0CRz",
        "colab_type": "code",
        "colab": {}
      },
      "source": [
        "# def FCN8(image_size, ch_in, ch_out):\n",
        "\n",
        "#     inputs = Input(shape=(*image_size, ch_in), name='input')\n",
        "\n",
        "#     # Building a pre-trained VGG-16 as a feature extractor\n",
        "#     vgg16 = VGG16(include_top=False, weights='imagenet', input_tensor=inputs)\n",
        "\n",
        "#     # Feature maps of final 3 blocks:\n",
        "#     f3 = vgg16.get_layer('block3_pool').output  # shape: (28, 28, 256)\n",
        "#     f4 = vgg16.get_layer('block4_pool').output  # shape: (14, 14, 512)\n",
        "#     f5 = vgg16.get_layer('block5_pool').output  # shape: ( 7,  7, 512)\n",
        "\n",
        "#     f5conv1 = Conv2D(filters=4086, kernel_size=7, padding='same', \n",
        "#                      activation='relu')(f5)\n",
        "#     f5drop1 = Dropout(0.5)(f5conv1)\n",
        "#     f5conv2 = Conv2D(filters=4086, kernel_size=1, padding='same', \n",
        "#                      activation='relu')(f5drop1)\n",
        "#     f5drop2 = Dropout(0.5)(f5conv2)\n",
        "#     f5conv3 = Conv2D(filters=ch_out, kernel_size=1, padding='same', \n",
        "#                      activation=None)(f5drop2)\n",
        "\n",
        "#     # Upscale f5 into a 14x14 feature map\n",
        "#     f5conv3x2 = Conv2DTranspose(filters=ch_out, kernel_size=4, strides=2, \n",
        "#                                 use_bias=False, padding='same', \n",
        "#                                 activation='relu')(f5)\n",
        "#     f4conv1 = Conv2D(filters=ch_out, kernel_size=1, padding='same', \n",
        "#                      activation=None)(f4)\n",
        "#     m1 = add([f4conv1, f5conv3x2])\n",
        "\n",
        "#     m1x2 = Conv2DTranspose(filters=ch_out, kernel_size=4, strides=2, \n",
        "#                            use_bias=False, padding='same', \n",
        "#                            activation='relu')(m1)\n",
        "#     f3conv1 = Conv2D(filters=ch_out, kernel_size=1, padding='same', \n",
        "#                      activation=None)(f3)\n",
        "#     m2 = add([f3conv1, m1x2])\n",
        "\n",
        "#     # Upscale the feature map to the original shape of 224x224\n",
        "#     outputs = Conv2DTranspose(filters=ch_out, kernel_size=16, strides=8, \n",
        "#                               padding='same', activation='softmax')(m2)\n",
        "    \n",
        "#     model = Model(inputs, outputs)\n",
        "#     return model"
      ],
      "execution_count": 0,
      "outputs": []
    },
    {
      "cell_type": "markdown",
      "metadata": {
        "id": "JBYsS9R40Hvl",
        "colab_type": "text"
      },
      "source": [
        "## Model Instantiation and summary"
      ]
    },
    {
      "cell_type": "code",
      "metadata": {
        "id": "d0qcCHf10Of-",
        "colab_type": "code",
        "colab": {}
      },
      "source": [
        "# model = FCN8(IMG_SIZE, N_CHANNELS, N_CLASSES)\n",
        "# model.summary()"
      ],
      "execution_count": 0,
      "outputs": []
    },
    {
      "cell_type": "markdown",
      "metadata": {
        "id": "7ABzQslzAxGZ",
        "colab_type": "text"
      },
      "source": [
        "## Unet Model"
      ]
    },
    {
      "cell_type": "code",
      "metadata": {
        "id": "8Zs-nWw2PXYw",
        "colab_type": "code",
        "outputId": "2c51ffcc-8a68-4fbd-b663-d42992d9375c",
        "colab": {
          "base_uri": "https://localhost:8080/",
          "height": 1000
        }
      },
      "source": [
        "unet_model = sm.Unet(backbone_name='mobilenetv2', encoder_weights='imagenet', \n",
        "                  classes=169, input_shape=(224,224,3), activation='softmax')\n",
        "unet_model.summary()"
      ],
      "execution_count": 5,
      "outputs": [
        {
          "output_type": "stream",
          "text": [
            "Downloading data from https://github.com/JonathanCMitchell/mobilenet_v2_keras/releases/download/v1.1/mobilenet_v2_weights_tf_dim_ordering_tf_kernels_1.0_224_no_top.h5\n",
            "9412608/9406464 [==============================] - 0s 0us/step\n",
            "Model: \"model\"\n",
            "__________________________________________________________________________________________________\n",
            "Layer (type)                    Output Shape         Param #     Connected to                     \n",
            "==================================================================================================\n",
            "input_1 (InputLayer)            [(None, 224, 224, 3) 0                                            \n",
            "__________________________________________________________________________________________________\n",
            "Conv1_pad (ZeroPadding2D)       (None, 225, 225, 3)  0           input_1[0][0]                    \n",
            "__________________________________________________________________________________________________\n",
            "Conv1 (Conv2D)                  (None, 112, 112, 32) 864         Conv1_pad[0][0]                  \n",
            "__________________________________________________________________________________________________\n",
            "bn_Conv1 (BatchNormalization)   (None, 112, 112, 32) 128         Conv1[0][0]                      \n",
            "__________________________________________________________________________________________________\n",
            "Conv1_relu (ReLU)               (None, 112, 112, 32) 0           bn_Conv1[0][0]                   \n",
            "__________________________________________________________________________________________________\n",
            "expanded_conv_depthwise (Depthw (None, 112, 112, 32) 288         Conv1_relu[0][0]                 \n",
            "__________________________________________________________________________________________________\n",
            "expanded_conv_depthwise_BN (Bat (None, 112, 112, 32) 128         expanded_conv_depthwise[0][0]    \n",
            "__________________________________________________________________________________________________\n",
            "expanded_conv_depthwise_relu (R (None, 112, 112, 32) 0           expanded_conv_depthwise_BN[0][0] \n",
            "__________________________________________________________________________________________________\n",
            "expanded_conv_project (Conv2D)  (None, 112, 112, 16) 512         expanded_conv_depthwise_relu[0][0\n",
            "__________________________________________________________________________________________________\n",
            "expanded_conv_project_BN (Batch (None, 112, 112, 16) 64          expanded_conv_project[0][0]      \n",
            "__________________________________________________________________________________________________\n",
            "block_1_expand (Conv2D)         (None, 112, 112, 96) 1536        expanded_conv_project_BN[0][0]   \n",
            "__________________________________________________________________________________________________\n",
            "block_1_expand_BN (BatchNormali (None, 112, 112, 96) 384         block_1_expand[0][0]             \n",
            "__________________________________________________________________________________________________\n",
            "block_1_expand_relu (ReLU)      (None, 112, 112, 96) 0           block_1_expand_BN[0][0]          \n",
            "__________________________________________________________________________________________________\n",
            "block_1_pad (ZeroPadding2D)     (None, 113, 113, 96) 0           block_1_expand_relu[0][0]        \n",
            "__________________________________________________________________________________________________\n",
            "block_1_depthwise (DepthwiseCon (None, 56, 56, 96)   864         block_1_pad[0][0]                \n",
            "__________________________________________________________________________________________________\n",
            "block_1_depthwise_BN (BatchNorm (None, 56, 56, 96)   384         block_1_depthwise[0][0]          \n",
            "__________________________________________________________________________________________________\n",
            "block_1_depthwise_relu (ReLU)   (None, 56, 56, 96)   0           block_1_depthwise_BN[0][0]       \n",
            "__________________________________________________________________________________________________\n",
            "block_1_project (Conv2D)        (None, 56, 56, 24)   2304        block_1_depthwise_relu[0][0]     \n",
            "__________________________________________________________________________________________________\n",
            "block_1_project_BN (BatchNormal (None, 56, 56, 24)   96          block_1_project[0][0]            \n",
            "__________________________________________________________________________________________________\n",
            "block_2_expand (Conv2D)         (None, 56, 56, 144)  3456        block_1_project_BN[0][0]         \n",
            "__________________________________________________________________________________________________\n",
            "block_2_expand_BN (BatchNormali (None, 56, 56, 144)  576         block_2_expand[0][0]             \n",
            "__________________________________________________________________________________________________\n",
            "block_2_expand_relu (ReLU)      (None, 56, 56, 144)  0           block_2_expand_BN[0][0]          \n",
            "__________________________________________________________________________________________________\n",
            "block_2_depthwise (DepthwiseCon (None, 56, 56, 144)  1296        block_2_expand_relu[0][0]        \n",
            "__________________________________________________________________________________________________\n",
            "block_2_depthwise_BN (BatchNorm (None, 56, 56, 144)  576         block_2_depthwise[0][0]          \n",
            "__________________________________________________________________________________________________\n",
            "block_2_depthwise_relu (ReLU)   (None, 56, 56, 144)  0           block_2_depthwise_BN[0][0]       \n",
            "__________________________________________________________________________________________________\n",
            "block_2_project (Conv2D)        (None, 56, 56, 24)   3456        block_2_depthwise_relu[0][0]     \n",
            "__________________________________________________________________________________________________\n",
            "block_2_project_BN (BatchNormal (None, 56, 56, 24)   96          block_2_project[0][0]            \n",
            "__________________________________________________________________________________________________\n",
            "block_2_add (Add)               (None, 56, 56, 24)   0           block_1_project_BN[0][0]         \n",
            "                                                                 block_2_project_BN[0][0]         \n",
            "__________________________________________________________________________________________________\n",
            "block_3_expand (Conv2D)         (None, 56, 56, 144)  3456        block_2_add[0][0]                \n",
            "__________________________________________________________________________________________________\n",
            "block_3_expand_BN (BatchNormali (None, 56, 56, 144)  576         block_3_expand[0][0]             \n",
            "__________________________________________________________________________________________________\n",
            "block_3_expand_relu (ReLU)      (None, 56, 56, 144)  0           block_3_expand_BN[0][0]          \n",
            "__________________________________________________________________________________________________\n",
            "block_3_pad (ZeroPadding2D)     (None, 57, 57, 144)  0           block_3_expand_relu[0][0]        \n",
            "__________________________________________________________________________________________________\n",
            "block_3_depthwise (DepthwiseCon (None, 28, 28, 144)  1296        block_3_pad[0][0]                \n",
            "__________________________________________________________________________________________________\n",
            "block_3_depthwise_BN (BatchNorm (None, 28, 28, 144)  576         block_3_depthwise[0][0]          \n",
            "__________________________________________________________________________________________________\n",
            "block_3_depthwise_relu (ReLU)   (None, 28, 28, 144)  0           block_3_depthwise_BN[0][0]       \n",
            "__________________________________________________________________________________________________\n",
            "block_3_project (Conv2D)        (None, 28, 28, 32)   4608        block_3_depthwise_relu[0][0]     \n",
            "__________________________________________________________________________________________________\n",
            "block_3_project_BN (BatchNormal (None, 28, 28, 32)   128         block_3_project[0][0]            \n",
            "__________________________________________________________________________________________________\n",
            "block_4_expand (Conv2D)         (None, 28, 28, 192)  6144        block_3_project_BN[0][0]         \n",
            "__________________________________________________________________________________________________\n",
            "block_4_expand_BN (BatchNormali (None, 28, 28, 192)  768         block_4_expand[0][0]             \n",
            "__________________________________________________________________________________________________\n",
            "block_4_expand_relu (ReLU)      (None, 28, 28, 192)  0           block_4_expand_BN[0][0]          \n",
            "__________________________________________________________________________________________________\n",
            "block_4_depthwise (DepthwiseCon (None, 28, 28, 192)  1728        block_4_expand_relu[0][0]        \n",
            "__________________________________________________________________________________________________\n",
            "block_4_depthwise_BN (BatchNorm (None, 28, 28, 192)  768         block_4_depthwise[0][0]          \n",
            "__________________________________________________________________________________________________\n",
            "block_4_depthwise_relu (ReLU)   (None, 28, 28, 192)  0           block_4_depthwise_BN[0][0]       \n",
            "__________________________________________________________________________________________________\n",
            "block_4_project (Conv2D)        (None, 28, 28, 32)   6144        block_4_depthwise_relu[0][0]     \n",
            "__________________________________________________________________________________________________\n",
            "block_4_project_BN (BatchNormal (None, 28, 28, 32)   128         block_4_project[0][0]            \n",
            "__________________________________________________________________________________________________\n",
            "block_4_add (Add)               (None, 28, 28, 32)   0           block_3_project_BN[0][0]         \n",
            "                                                                 block_4_project_BN[0][0]         \n",
            "__________________________________________________________________________________________________\n",
            "block_5_expand (Conv2D)         (None, 28, 28, 192)  6144        block_4_add[0][0]                \n",
            "__________________________________________________________________________________________________\n",
            "block_5_expand_BN (BatchNormali (None, 28, 28, 192)  768         block_5_expand[0][0]             \n",
            "__________________________________________________________________________________________________\n",
            "block_5_expand_relu (ReLU)      (None, 28, 28, 192)  0           block_5_expand_BN[0][0]          \n",
            "__________________________________________________________________________________________________\n",
            "block_5_depthwise (DepthwiseCon (None, 28, 28, 192)  1728        block_5_expand_relu[0][0]        \n",
            "__________________________________________________________________________________________________\n",
            "block_5_depthwise_BN (BatchNorm (None, 28, 28, 192)  768         block_5_depthwise[0][0]          \n",
            "__________________________________________________________________________________________________\n",
            "block_5_depthwise_relu (ReLU)   (None, 28, 28, 192)  0           block_5_depthwise_BN[0][0]       \n",
            "__________________________________________________________________________________________________\n",
            "block_5_project (Conv2D)        (None, 28, 28, 32)   6144        block_5_depthwise_relu[0][0]     \n",
            "__________________________________________________________________________________________________\n",
            "block_5_project_BN (BatchNormal (None, 28, 28, 32)   128         block_5_project[0][0]            \n",
            "__________________________________________________________________________________________________\n",
            "block_5_add (Add)               (None, 28, 28, 32)   0           block_4_add[0][0]                \n",
            "                                                                 block_5_project_BN[0][0]         \n",
            "__________________________________________________________________________________________________\n",
            "block_6_expand (Conv2D)         (None, 28, 28, 192)  6144        block_5_add[0][0]                \n",
            "__________________________________________________________________________________________________\n",
            "block_6_expand_BN (BatchNormali (None, 28, 28, 192)  768         block_6_expand[0][0]             \n",
            "__________________________________________________________________________________________________\n",
            "block_6_expand_relu (ReLU)      (None, 28, 28, 192)  0           block_6_expand_BN[0][0]          \n",
            "__________________________________________________________________________________________________\n",
            "block_6_pad (ZeroPadding2D)     (None, 29, 29, 192)  0           block_6_expand_relu[0][0]        \n",
            "__________________________________________________________________________________________________\n",
            "block_6_depthwise (DepthwiseCon (None, 14, 14, 192)  1728        block_6_pad[0][0]                \n",
            "__________________________________________________________________________________________________\n",
            "block_6_depthwise_BN (BatchNorm (None, 14, 14, 192)  768         block_6_depthwise[0][0]          \n",
            "__________________________________________________________________________________________________\n",
            "block_6_depthwise_relu (ReLU)   (None, 14, 14, 192)  0           block_6_depthwise_BN[0][0]       \n",
            "__________________________________________________________________________________________________\n",
            "block_6_project (Conv2D)        (None, 14, 14, 64)   12288       block_6_depthwise_relu[0][0]     \n",
            "__________________________________________________________________________________________________\n",
            "block_6_project_BN (BatchNormal (None, 14, 14, 64)   256         block_6_project[0][0]            \n",
            "__________________________________________________________________________________________________\n",
            "block_7_expand (Conv2D)         (None, 14, 14, 384)  24576       block_6_project_BN[0][0]         \n",
            "__________________________________________________________________________________________________\n",
            "block_7_expand_BN (BatchNormali (None, 14, 14, 384)  1536        block_7_expand[0][0]             \n",
            "__________________________________________________________________________________________________\n",
            "block_7_expand_relu (ReLU)      (None, 14, 14, 384)  0           block_7_expand_BN[0][0]          \n",
            "__________________________________________________________________________________________________\n",
            "block_7_depthwise (DepthwiseCon (None, 14, 14, 384)  3456        block_7_expand_relu[0][0]        \n",
            "__________________________________________________________________________________________________\n",
            "block_7_depthwise_BN (BatchNorm (None, 14, 14, 384)  1536        block_7_depthwise[0][0]          \n",
            "__________________________________________________________________________________________________\n",
            "block_7_depthwise_relu (ReLU)   (None, 14, 14, 384)  0           block_7_depthwise_BN[0][0]       \n",
            "__________________________________________________________________________________________________\n",
            "block_7_project (Conv2D)        (None, 14, 14, 64)   24576       block_7_depthwise_relu[0][0]     \n",
            "__________________________________________________________________________________________________\n",
            "block_7_project_BN (BatchNormal (None, 14, 14, 64)   256         block_7_project[0][0]            \n",
            "__________________________________________________________________________________________________\n",
            "block_7_add (Add)               (None, 14, 14, 64)   0           block_6_project_BN[0][0]         \n",
            "                                                                 block_7_project_BN[0][0]         \n",
            "__________________________________________________________________________________________________\n",
            "block_8_expand (Conv2D)         (None, 14, 14, 384)  24576       block_7_add[0][0]                \n",
            "__________________________________________________________________________________________________\n",
            "block_8_expand_BN (BatchNormali (None, 14, 14, 384)  1536        block_8_expand[0][0]             \n",
            "__________________________________________________________________________________________________\n",
            "block_8_expand_relu (ReLU)      (None, 14, 14, 384)  0           block_8_expand_BN[0][0]          \n",
            "__________________________________________________________________________________________________\n",
            "block_8_depthwise (DepthwiseCon (None, 14, 14, 384)  3456        block_8_expand_relu[0][0]        \n",
            "__________________________________________________________________________________________________\n",
            "block_8_depthwise_BN (BatchNorm (None, 14, 14, 384)  1536        block_8_depthwise[0][0]          \n",
            "__________________________________________________________________________________________________\n",
            "block_8_depthwise_relu (ReLU)   (None, 14, 14, 384)  0           block_8_depthwise_BN[0][0]       \n",
            "__________________________________________________________________________________________________\n",
            "block_8_project (Conv2D)        (None, 14, 14, 64)   24576       block_8_depthwise_relu[0][0]     \n",
            "__________________________________________________________________________________________________\n",
            "block_8_project_BN (BatchNormal (None, 14, 14, 64)   256         block_8_project[0][0]            \n",
            "__________________________________________________________________________________________________\n",
            "block_8_add (Add)               (None, 14, 14, 64)   0           block_7_add[0][0]                \n",
            "                                                                 block_8_project_BN[0][0]         \n",
            "__________________________________________________________________________________________________\n",
            "block_9_expand (Conv2D)         (None, 14, 14, 384)  24576       block_8_add[0][0]                \n",
            "__________________________________________________________________________________________________\n",
            "block_9_expand_BN (BatchNormali (None, 14, 14, 384)  1536        block_9_expand[0][0]             \n",
            "__________________________________________________________________________________________________\n",
            "block_9_expand_relu (ReLU)      (None, 14, 14, 384)  0           block_9_expand_BN[0][0]          \n",
            "__________________________________________________________________________________________________\n",
            "block_9_depthwise (DepthwiseCon (None, 14, 14, 384)  3456        block_9_expand_relu[0][0]        \n",
            "__________________________________________________________________________________________________\n",
            "block_9_depthwise_BN (BatchNorm (None, 14, 14, 384)  1536        block_9_depthwise[0][0]          \n",
            "__________________________________________________________________________________________________\n",
            "block_9_depthwise_relu (ReLU)   (None, 14, 14, 384)  0           block_9_depthwise_BN[0][0]       \n",
            "__________________________________________________________________________________________________\n",
            "block_9_project (Conv2D)        (None, 14, 14, 64)   24576       block_9_depthwise_relu[0][0]     \n",
            "__________________________________________________________________________________________________\n",
            "block_9_project_BN (BatchNormal (None, 14, 14, 64)   256         block_9_project[0][0]            \n",
            "__________________________________________________________________________________________________\n",
            "block_9_add (Add)               (None, 14, 14, 64)   0           block_8_add[0][0]                \n",
            "                                                                 block_9_project_BN[0][0]         \n",
            "__________________________________________________________________________________________________\n",
            "block_10_expand (Conv2D)        (None, 14, 14, 384)  24576       block_9_add[0][0]                \n",
            "__________________________________________________________________________________________________\n",
            "block_10_expand_BN (BatchNormal (None, 14, 14, 384)  1536        block_10_expand[0][0]            \n",
            "__________________________________________________________________________________________________\n",
            "block_10_expand_relu (ReLU)     (None, 14, 14, 384)  0           block_10_expand_BN[0][0]         \n",
            "__________________________________________________________________________________________________\n",
            "block_10_depthwise (DepthwiseCo (None, 14, 14, 384)  3456        block_10_expand_relu[0][0]       \n",
            "__________________________________________________________________________________________________\n",
            "block_10_depthwise_BN (BatchNor (None, 14, 14, 384)  1536        block_10_depthwise[0][0]         \n",
            "__________________________________________________________________________________________________\n",
            "block_10_depthwise_relu (ReLU)  (None, 14, 14, 384)  0           block_10_depthwise_BN[0][0]      \n",
            "__________________________________________________________________________________________________\n",
            "block_10_project (Conv2D)       (None, 14, 14, 96)   36864       block_10_depthwise_relu[0][0]    \n",
            "__________________________________________________________________________________________________\n",
            "block_10_project_BN (BatchNorma (None, 14, 14, 96)   384         block_10_project[0][0]           \n",
            "__________________________________________________________________________________________________\n",
            "block_11_expand (Conv2D)        (None, 14, 14, 576)  55296       block_10_project_BN[0][0]        \n",
            "__________________________________________________________________________________________________\n",
            "block_11_expand_BN (BatchNormal (None, 14, 14, 576)  2304        block_11_expand[0][0]            \n",
            "__________________________________________________________________________________________________\n",
            "block_11_expand_relu (ReLU)     (None, 14, 14, 576)  0           block_11_expand_BN[0][0]         \n",
            "__________________________________________________________________________________________________\n",
            "block_11_depthwise (DepthwiseCo (None, 14, 14, 576)  5184        block_11_expand_relu[0][0]       \n",
            "__________________________________________________________________________________________________\n",
            "block_11_depthwise_BN (BatchNor (None, 14, 14, 576)  2304        block_11_depthwise[0][0]         \n",
            "__________________________________________________________________________________________________\n",
            "block_11_depthwise_relu (ReLU)  (None, 14, 14, 576)  0           block_11_depthwise_BN[0][0]      \n",
            "__________________________________________________________________________________________________\n",
            "block_11_project (Conv2D)       (None, 14, 14, 96)   55296       block_11_depthwise_relu[0][0]    \n",
            "__________________________________________________________________________________________________\n",
            "block_11_project_BN (BatchNorma (None, 14, 14, 96)   384         block_11_project[0][0]           \n",
            "__________________________________________________________________________________________________\n",
            "block_11_add (Add)              (None, 14, 14, 96)   0           block_10_project_BN[0][0]        \n",
            "                                                                 block_11_project_BN[0][0]        \n",
            "__________________________________________________________________________________________________\n",
            "block_12_expand (Conv2D)        (None, 14, 14, 576)  55296       block_11_add[0][0]               \n",
            "__________________________________________________________________________________________________\n",
            "block_12_expand_BN (BatchNormal (None, 14, 14, 576)  2304        block_12_expand[0][0]            \n",
            "__________________________________________________________________________________________________\n",
            "block_12_expand_relu (ReLU)     (None, 14, 14, 576)  0           block_12_expand_BN[0][0]         \n",
            "__________________________________________________________________________________________________\n",
            "block_12_depthwise (DepthwiseCo (None, 14, 14, 576)  5184        block_12_expand_relu[0][0]       \n",
            "__________________________________________________________________________________________________\n",
            "block_12_depthwise_BN (BatchNor (None, 14, 14, 576)  2304        block_12_depthwise[0][0]         \n",
            "__________________________________________________________________________________________________\n",
            "block_12_depthwise_relu (ReLU)  (None, 14, 14, 576)  0           block_12_depthwise_BN[0][0]      \n",
            "__________________________________________________________________________________________________\n",
            "block_12_project (Conv2D)       (None, 14, 14, 96)   55296       block_12_depthwise_relu[0][0]    \n",
            "__________________________________________________________________________________________________\n",
            "block_12_project_BN (BatchNorma (None, 14, 14, 96)   384         block_12_project[0][0]           \n",
            "__________________________________________________________________________________________________\n",
            "block_12_add (Add)              (None, 14, 14, 96)   0           block_11_add[0][0]               \n",
            "                                                                 block_12_project_BN[0][0]        \n",
            "__________________________________________________________________________________________________\n",
            "block_13_expand (Conv2D)        (None, 14, 14, 576)  55296       block_12_add[0][0]               \n",
            "__________________________________________________________________________________________________\n",
            "block_13_expand_BN (BatchNormal (None, 14, 14, 576)  2304        block_13_expand[0][0]            \n",
            "__________________________________________________________________________________________________\n",
            "block_13_expand_relu (ReLU)     (None, 14, 14, 576)  0           block_13_expand_BN[0][0]         \n",
            "__________________________________________________________________________________________________\n",
            "block_13_pad (ZeroPadding2D)    (None, 15, 15, 576)  0           block_13_expand_relu[0][0]       \n",
            "__________________________________________________________________________________________________\n",
            "block_13_depthwise (DepthwiseCo (None, 7, 7, 576)    5184        block_13_pad[0][0]               \n",
            "__________________________________________________________________________________________________\n",
            "block_13_depthwise_BN (BatchNor (None, 7, 7, 576)    2304        block_13_depthwise[0][0]         \n",
            "__________________________________________________________________________________________________\n",
            "block_13_depthwise_relu (ReLU)  (None, 7, 7, 576)    0           block_13_depthwise_BN[0][0]      \n",
            "__________________________________________________________________________________________________\n",
            "block_13_project (Conv2D)       (None, 7, 7, 160)    92160       block_13_depthwise_relu[0][0]    \n",
            "__________________________________________________________________________________________________\n",
            "block_13_project_BN (BatchNorma (None, 7, 7, 160)    640         block_13_project[0][0]           \n",
            "__________________________________________________________________________________________________\n",
            "block_14_expand (Conv2D)        (None, 7, 7, 960)    153600      block_13_project_BN[0][0]        \n",
            "__________________________________________________________________________________________________\n",
            "block_14_expand_BN (BatchNormal (None, 7, 7, 960)    3840        block_14_expand[0][0]            \n",
            "__________________________________________________________________________________________________\n",
            "block_14_expand_relu (ReLU)     (None, 7, 7, 960)    0           block_14_expand_BN[0][0]         \n",
            "__________________________________________________________________________________________________\n",
            "block_14_depthwise (DepthwiseCo (None, 7, 7, 960)    8640        block_14_expand_relu[0][0]       \n",
            "__________________________________________________________________________________________________\n",
            "block_14_depthwise_BN (BatchNor (None, 7, 7, 960)    3840        block_14_depthwise[0][0]         \n",
            "__________________________________________________________________________________________________\n",
            "block_14_depthwise_relu (ReLU)  (None, 7, 7, 960)    0           block_14_depthwise_BN[0][0]      \n",
            "__________________________________________________________________________________________________\n",
            "block_14_project (Conv2D)       (None, 7, 7, 160)    153600      block_14_depthwise_relu[0][0]    \n",
            "__________________________________________________________________________________________________\n",
            "block_14_project_BN (BatchNorma (None, 7, 7, 160)    640         block_14_project[0][0]           \n",
            "__________________________________________________________________________________________________\n",
            "block_14_add (Add)              (None, 7, 7, 160)    0           block_13_project_BN[0][0]        \n",
            "                                                                 block_14_project_BN[0][0]        \n",
            "__________________________________________________________________________________________________\n",
            "block_15_expand (Conv2D)        (None, 7, 7, 960)    153600      block_14_add[0][0]               \n",
            "__________________________________________________________________________________________________\n",
            "block_15_expand_BN (BatchNormal (None, 7, 7, 960)    3840        block_15_expand[0][0]            \n",
            "__________________________________________________________________________________________________\n",
            "block_15_expand_relu (ReLU)     (None, 7, 7, 960)    0           block_15_expand_BN[0][0]         \n",
            "__________________________________________________________________________________________________\n",
            "block_15_depthwise (DepthwiseCo (None, 7, 7, 960)    8640        block_15_expand_relu[0][0]       \n",
            "__________________________________________________________________________________________________\n",
            "block_15_depthwise_BN (BatchNor (None, 7, 7, 960)    3840        block_15_depthwise[0][0]         \n",
            "__________________________________________________________________________________________________\n",
            "block_15_depthwise_relu (ReLU)  (None, 7, 7, 960)    0           block_15_depthwise_BN[0][0]      \n",
            "__________________________________________________________________________________________________\n",
            "block_15_project (Conv2D)       (None, 7, 7, 160)    153600      block_15_depthwise_relu[0][0]    \n",
            "__________________________________________________________________________________________________\n",
            "block_15_project_BN (BatchNorma (None, 7, 7, 160)    640         block_15_project[0][0]           \n",
            "__________________________________________________________________________________________________\n",
            "block_15_add (Add)              (None, 7, 7, 160)    0           block_14_add[0][0]               \n",
            "                                                                 block_15_project_BN[0][0]        \n",
            "__________________________________________________________________________________________________\n",
            "block_16_expand (Conv2D)        (None, 7, 7, 960)    153600      block_15_add[0][0]               \n",
            "__________________________________________________________________________________________________\n",
            "block_16_expand_BN (BatchNormal (None, 7, 7, 960)    3840        block_16_expand[0][0]            \n",
            "__________________________________________________________________________________________________\n",
            "block_16_expand_relu (ReLU)     (None, 7, 7, 960)    0           block_16_expand_BN[0][0]         \n",
            "__________________________________________________________________________________________________\n",
            "block_16_depthwise (DepthwiseCo (None, 7, 7, 960)    8640        block_16_expand_relu[0][0]       \n",
            "__________________________________________________________________________________________________\n",
            "block_16_depthwise_BN (BatchNor (None, 7, 7, 960)    3840        block_16_depthwise[0][0]         \n",
            "__________________________________________________________________________________________________\n",
            "block_16_depthwise_relu (ReLU)  (None, 7, 7, 960)    0           block_16_depthwise_BN[0][0]      \n",
            "__________________________________________________________________________________________________\n",
            "block_16_project (Conv2D)       (None, 7, 7, 320)    307200      block_16_depthwise_relu[0][0]    \n",
            "__________________________________________________________________________________________________\n",
            "block_16_project_BN (BatchNorma (None, 7, 7, 320)    1280        block_16_project[0][0]           \n",
            "__________________________________________________________________________________________________\n",
            "Conv_1 (Conv2D)                 (None, 7, 7, 1280)   409600      block_16_project_BN[0][0]        \n",
            "__________________________________________________________________________________________________\n",
            "Conv_1_bn (BatchNormalization)  (None, 7, 7, 1280)   5120        Conv_1[0][0]                     \n",
            "__________________________________________________________________________________________________\n",
            "out_relu (ReLU)                 (None, 7, 7, 1280)   0           Conv_1_bn[0][0]                  \n",
            "__________________________________________________________________________________________________\n",
            "decoder_stage0_upsampling (UpSa (None, 14, 14, 1280) 0           out_relu[0][0]                   \n",
            "__________________________________________________________________________________________________\n",
            "decoder_stage0_concat (Concaten (None, 14, 14, 1856) 0           decoder_stage0_upsampling[0][0]  \n",
            "                                                                 block_13_expand_relu[0][0]       \n",
            "__________________________________________________________________________________________________\n",
            "decoder_stage0a_conv (Conv2D)   (None, 14, 14, 256)  4276224     decoder_stage0_concat[0][0]      \n",
            "__________________________________________________________________________________________________\n",
            "decoder_stage0a_bn (BatchNormal (None, 14, 14, 256)  1024        decoder_stage0a_conv[0][0]       \n",
            "__________________________________________________________________________________________________\n",
            "decoder_stage0a_relu (Activatio (None, 14, 14, 256)  0           decoder_stage0a_bn[0][0]         \n",
            "__________________________________________________________________________________________________\n",
            "decoder_stage0b_conv (Conv2D)   (None, 14, 14, 256)  589824      decoder_stage0a_relu[0][0]       \n",
            "__________________________________________________________________________________________________\n",
            "decoder_stage0b_bn (BatchNormal (None, 14, 14, 256)  1024        decoder_stage0b_conv[0][0]       \n",
            "__________________________________________________________________________________________________\n",
            "decoder_stage0b_relu (Activatio (None, 14, 14, 256)  0           decoder_stage0b_bn[0][0]         \n",
            "__________________________________________________________________________________________________\n",
            "decoder_stage1_upsampling (UpSa (None, 28, 28, 256)  0           decoder_stage0b_relu[0][0]       \n",
            "__________________________________________________________________________________________________\n",
            "decoder_stage1_concat (Concaten (None, 28, 28, 448)  0           decoder_stage1_upsampling[0][0]  \n",
            "                                                                 block_6_expand_relu[0][0]        \n",
            "__________________________________________________________________________________________________\n",
            "decoder_stage1a_conv (Conv2D)   (None, 28, 28, 128)  516096      decoder_stage1_concat[0][0]      \n",
            "__________________________________________________________________________________________________\n",
            "decoder_stage1a_bn (BatchNormal (None, 28, 28, 128)  512         decoder_stage1a_conv[0][0]       \n",
            "__________________________________________________________________________________________________\n",
            "decoder_stage1a_relu (Activatio (None, 28, 28, 128)  0           decoder_stage1a_bn[0][0]         \n",
            "__________________________________________________________________________________________________\n",
            "decoder_stage1b_conv (Conv2D)   (None, 28, 28, 128)  147456      decoder_stage1a_relu[0][0]       \n",
            "__________________________________________________________________________________________________\n",
            "decoder_stage1b_bn (BatchNormal (None, 28, 28, 128)  512         decoder_stage1b_conv[0][0]       \n",
            "__________________________________________________________________________________________________\n",
            "decoder_stage1b_relu (Activatio (None, 28, 28, 128)  0           decoder_stage1b_bn[0][0]         \n",
            "__________________________________________________________________________________________________\n",
            "decoder_stage2_upsampling (UpSa (None, 56, 56, 128)  0           decoder_stage1b_relu[0][0]       \n",
            "__________________________________________________________________________________________________\n",
            "decoder_stage2_concat (Concaten (None, 56, 56, 272)  0           decoder_stage2_upsampling[0][0]  \n",
            "                                                                 block_3_expand_relu[0][0]        \n",
            "__________________________________________________________________________________________________\n",
            "decoder_stage2a_conv (Conv2D)   (None, 56, 56, 64)   156672      decoder_stage2_concat[0][0]      \n",
            "__________________________________________________________________________________________________\n",
            "decoder_stage2a_bn (BatchNormal (None, 56, 56, 64)   256         decoder_stage2a_conv[0][0]       \n",
            "__________________________________________________________________________________________________\n",
            "decoder_stage2a_relu (Activatio (None, 56, 56, 64)   0           decoder_stage2a_bn[0][0]         \n",
            "__________________________________________________________________________________________________\n",
            "decoder_stage2b_conv (Conv2D)   (None, 56, 56, 64)   36864       decoder_stage2a_relu[0][0]       \n",
            "__________________________________________________________________________________________________\n",
            "decoder_stage2b_bn (BatchNormal (None, 56, 56, 64)   256         decoder_stage2b_conv[0][0]       \n",
            "__________________________________________________________________________________________________\n",
            "decoder_stage2b_relu (Activatio (None, 56, 56, 64)   0           decoder_stage2b_bn[0][0]         \n",
            "__________________________________________________________________________________________________\n",
            "decoder_stage3_upsampling (UpSa (None, 112, 112, 64) 0           decoder_stage2b_relu[0][0]       \n",
            "__________________________________________________________________________________________________\n",
            "decoder_stage3_concat (Concaten (None, 112, 112, 160 0           decoder_stage3_upsampling[0][0]  \n",
            "                                                                 block_1_expand_relu[0][0]        \n",
            "__________________________________________________________________________________________________\n",
            "decoder_stage3a_conv (Conv2D)   (None, 112, 112, 32) 46080       decoder_stage3_concat[0][0]      \n",
            "__________________________________________________________________________________________________\n",
            "decoder_stage3a_bn (BatchNormal (None, 112, 112, 32) 128         decoder_stage3a_conv[0][0]       \n",
            "__________________________________________________________________________________________________\n",
            "decoder_stage3a_relu (Activatio (None, 112, 112, 32) 0           decoder_stage3a_bn[0][0]         \n",
            "__________________________________________________________________________________________________\n",
            "decoder_stage3b_conv (Conv2D)   (None, 112, 112, 32) 9216        decoder_stage3a_relu[0][0]       \n",
            "__________________________________________________________________________________________________\n",
            "decoder_stage3b_bn (BatchNormal (None, 112, 112, 32) 128         decoder_stage3b_conv[0][0]       \n",
            "__________________________________________________________________________________________________\n",
            "decoder_stage3b_relu (Activatio (None, 112, 112, 32) 0           decoder_stage3b_bn[0][0]         \n",
            "__________________________________________________________________________________________________\n",
            "decoder_stage4_upsampling (UpSa (None, 224, 224, 32) 0           decoder_stage3b_relu[0][0]       \n",
            "__________________________________________________________________________________________________\n",
            "decoder_stage4a_conv (Conv2D)   (None, 224, 224, 16) 4608        decoder_stage4_upsampling[0][0]  \n",
            "__________________________________________________________________________________________________\n",
            "decoder_stage4a_bn (BatchNormal (None, 224, 224, 16) 64          decoder_stage4a_conv[0][0]       \n",
            "__________________________________________________________________________________________________\n",
            "decoder_stage4a_relu (Activatio (None, 224, 224, 16) 0           decoder_stage4a_bn[0][0]         \n",
            "__________________________________________________________________________________________________\n",
            "decoder_stage4b_conv (Conv2D)   (None, 224, 224, 16) 2304        decoder_stage4a_relu[0][0]       \n",
            "__________________________________________________________________________________________________\n",
            "decoder_stage4b_bn (BatchNormal (None, 224, 224, 16) 64          decoder_stage4b_conv[0][0]       \n",
            "__________________________________________________________________________________________________\n",
            "decoder_stage4b_relu (Activatio (None, 224, 224, 16) 0           decoder_stage4b_bn[0][0]         \n",
            "__________________________________________________________________________________________________\n",
            "final_conv (Conv2D)             (None, 224, 224, 169 24505       decoder_stage4b_relu[0][0]       \n",
            "__________________________________________________________________________________________________\n",
            "softmax (Activation)            (None, 224, 224, 169 0           final_conv[0][0]                 \n",
            "==================================================================================================\n",
            "Total params: 8,071,801\n",
            "Trainable params: 8,035,705\n",
            "Non-trainable params: 36,096\n",
            "__________________________________________________________________________________________________\n"
          ],
          "name": "stdout"
        }
      ]
    },
    {
      "cell_type": "code",
      "metadata": {
        "id": "qySmlP7VPihO",
        "colab_type": "code",
        "colab": {}
      },
      "source": [
        "# unet_model.compile('Adam', loss=tf.keras.losses.CategoricalCrossentropy(), metrics=[tf.metrics.MeanIoU(num_classes=169, name='mIoU')])\n",
        "\n",
        "# history = unet_model.fit_generator(generator=training_generator,\n",
        "                              # validation_data=validation_generator,\n",
        "                              # epochs=1)"
      ],
      "execution_count": 0,
      "outputs": []
    },
    {
      "cell_type": "markdown",
      "metadata": {
        "id": "9pkhOFDW0YzW",
        "colab_type": "text"
      },
      "source": [
        "# Training Preparation"
      ]
    },
    {
      "cell_type": "markdown",
      "metadata": {
        "id": "LsKmfn0_0eHh",
        "colab_type": "text"
      },
      "source": [
        "## Metrics and Loss"
      ]
    },
    {
      "cell_type": "markdown",
      "metadata": {
        "id": "azuCK4d60jil",
        "colab_type": "text"
      },
      "source": [
        "**Metrices**: Accuracy and IoU\n",
        "\n",
        "\n",
        "**Loss**: cross-entropy vs. Dice\n",
        "\n",
        "\n",
        "Since we are doing multi-class classification task (pixel-level classification), we can use **cross-entropy loss**. However, to prevent the model from developing bias towards larger classes, **dice loss** function will be used because it is not affected by class proportions."
      ]
    },
    {
      "cell_type": "code",
      "metadata": {
        "id": "jEHI_N9r0wp-",
        "colab_type": "code",
        "colab": {}
      },
      "source": [
        "# TODO: Dice loss\n",
        "\n",
        "# @tf.function\n",
        "def dice_loss(y_true, y_pred, eps=1e-6, spatial_axes=[1, 2], from_logits=False):\n",
        "  \n",
        "    num_classes = y_pred.shape[-1]\n",
        "        \n",
        "    # Transform logits in probabilities, and one-hot the ground-truth:\n",
        "    \n",
        "    # Compute Dice numerator and denominator:\n",
        "    num_perclass = 2 * tf.reduce_sum(y_pred * y_true, axis=spatial_axes)\n",
        "    den_perclass = tf.reduce_sum(y_pred + y_true, axis=spatial_axes)\n",
        "\n",
        "    # Compute Dice and average over batch and classes:\n",
        "    dice = tf.reduce_mean((num_perclass + eps) / (den_perclass + eps))\n",
        "\n",
        "    return 1 - dice\n",
        "\n",
        "\n",
        "class DiceLoss(tf.losses.Loss):\n",
        "    def __init__(self, eps=1e-6, spatial_axes=[1, 2], from_logits=False, \n",
        "                 name='loss'):\n",
        "        super().__init__(name=name)\n",
        "        self.eps = eps\n",
        "        self.spatial_axes = spatial_axes\n",
        "        self.from_logits = from_logits\n",
        "    \n",
        "    def __call__(self, y_true, y_pred, sample_weight=None):\n",
        "        return dice_loss(y_true, y_pred, eps=self.eps, \n",
        "                         spatial_axes=self.spatial_axes, from_logits=self.from_logits)"
      ],
      "execution_count": 0,
      "outputs": []
    },
    {
      "cell_type": "code",
      "metadata": {
        "id": "gGMw0sfuzNWt",
        "colab_type": "code",
        "colab": {}
      },
      "source": [
        "accuracy = tf.metrics.Accuracy(name='acc')\n",
        "meanIoU  = tf.metrics.MeanIoU(num_classes=N_CLASSES, name='mIoU')\n",
        "loss_c = tf.keras.losses.CategoricalCrossentropy()\n",
        "loss_d = DiceLoss()"
      ],
      "execution_count": 0,
      "outputs": []
    },
    {
      "cell_type": "markdown",
      "metadata": {
        "id": "iX9651Cg1Nv5",
        "colab_type": "text"
      },
      "source": [
        "## Optimizer and Callbacks"
      ]
    },
    {
      "cell_type": "code",
      "metadata": {
        "id": "gxadN9A91Ik0",
        "colab_type": "code",
        "colab": {}
      },
      "source": [
        "optimizer = tf.keras.optimizers.Adam()"
      ],
      "execution_count": 0,
      "outputs": []
    },
    {
      "cell_type": "markdown",
      "metadata": {
        "id": "qnAJro7v1UQK",
        "colab_type": "text"
      },
      "source": [
        "## Hyper Parameters"
      ]
    },
    {
      "cell_type": "code",
      "metadata": {
        "id": "b3G6KDdt1S0F",
        "colab_type": "code",
        "colab": {}
      },
      "source": [
        "NUM_EPOCHS     = 10"
      ],
      "execution_count": 0,
      "outputs": []
    },
    {
      "cell_type": "markdown",
      "metadata": {
        "id": "o_JdBuhc1euD",
        "colab_type": "text"
      },
      "source": [
        "# Training"
      ]
    },
    {
      "cell_type": "code",
      "metadata": {
        "id": "IV4KdrKPe4WV",
        "colab_type": "code",
        "colab": {}
      },
      "source": [
        "unet_model.compile(optimizer=optimizer, loss=loss_d, metrics=[meanIoU])\n",
        "\n",
        "# model.compile(optimizer=optimizer, loss=loss_c, metrics=[accuracy, meanIoU])"
      ],
      "execution_count": 0,
      "outputs": []
    },
    {
      "cell_type": "code",
      "metadata": {
        "id": "Wd-t04she_qf",
        "colab_type": "code",
        "outputId": "ec24ebde-5dac-453d-f5fd-b732098259d3",
        "colab": {
          "base_uri": "https://localhost:8080/",
          "height": 357
        }
      },
      "source": [
        "history = unet_model.fit(x=training_generator,\n",
        "                              validation_data=validation_generator,\n",
        "                              epochs=NUM_EPOCHS)\n",
        "\n",
        "\n",
        "# history = model.fit(x=training_generator,\n",
        "                              # validation_data=validation_generator,\n",
        "                              # epochs=NUM_EPOCHS)"
      ],
      "execution_count": 0,
      "outputs": [
        {
          "output_type": "stream",
          "text": [
            "Epoch 1/10\n",
            "1961/1961 [==============================] - 1351s 689ms/step - loss: 0.4273 - mIoU: 0.4974 - val_loss: 0.0768 - val_mIoU: 0.4975\n",
            "Epoch 2/10\n",
            "1961/1961 [==============================] - 1341s 684ms/step - loss: 0.0742 - mIoU: 0.4974 - val_loss: 0.0745 - val_mIoU: 0.4971\n",
            "Epoch 3/10\n",
            "1961/1961 [==============================] - 1342s 684ms/step - loss: 0.0736 - mIoU: 0.4973 - val_loss: 0.0746 - val_mIoU: 0.4979\n",
            "Epoch 4/10\n",
            "1961/1961 [==============================] - 1337s 682ms/step - loss: 0.0735 - mIoU: 0.5025 - val_loss: 0.0744 - val_mIoU: 0.5142\n",
            "Epoch 5/10\n",
            "1961/1961 [==============================] - 1352s 689ms/step - loss: 0.0733 - mIoU: 0.5348 - val_loss: 0.0739 - val_mIoU: 0.6198\n",
            "Epoch 6/10\n",
            "1961/1961 [==============================] - 1366s 696ms/step - loss: 0.0721 - mIoU: 0.6236 - val_loss: 0.0694 - val_mIoU: 0.6316\n",
            "Epoch 7/10\n",
            "1961/1961 [==============================] - 1365s 696ms/step - loss: 0.0684 - mIoU: 0.6480 - val_loss: 0.0693 - val_mIoU: 0.6497\n",
            "Epoch 8/10\n",
            "1961/1961 [==============================] - 1355s 691ms/step - loss: 0.0683 - mIoU: 0.6495 - val_loss: 0.0690 - val_mIoU: 0.6584\n",
            "Epoch 9/10\n",
            "1961/1961 [==============================] - 1340s 683ms/step - loss: 0.0683 - mIoU: 0.6539 - val_loss: 0.0690 - val_mIoU: 0.6603\n",
            "Epoch 10/10\n",
            "1961/1961 [==============================] - 1338s 682ms/step - loss: 0.0683 - mIoU: 0.6565 - val_loss: 0.0699 - val_mIoU: 0.6546\n"
          ],
          "name": "stdout"
        }
      ]
    },
    {
      "cell_type": "markdown",
      "metadata": {
        "id": "FPYlco4m2Rz8",
        "colab_type": "text"
      },
      "source": [
        "## Graphs"
      ]
    },
    {
      "cell_type": "code",
      "metadata": {
        "id": "SAlz0bWu2K3e",
        "colab_type": "code",
        "outputId": "2758d21e-387b-415c-91d3-43fa7ddbf6d3",
        "colab": {
          "base_uri": "https://localhost:8080/",
          "height": 733
        }
      },
      "source": [
        "fig, ax = plt.subplots(2, 2, figsize=(16, 12))\n",
        "ax[0, 0].set_title(\"Accuracy\")\n",
        "ax[0, 1].set_title(\"Val-Accuracy\")\n",
        "ax[1, 0].set_title(\"Loss\")\n",
        "ax[1, 1].set_title(\"Val-Loss\")\n",
        "\n",
        "ax[0, 0].plot(history.history['mIoU'])\n",
        "ax[0, 1].plot(history.history['val_mIoU'])\n",
        "ax[1, 0].plot(history.history['loss'])\n",
        "ax[1, 1].plot(history.history['val_loss'])"
      ],
      "execution_count": 0,
      "outputs": [
        {
          "output_type": "execute_result",
          "data": {
            "text/plain": [
              "[<matplotlib.lines.Line2D at 0x7fcd0e17beb8>]"
            ]
          },
          "metadata": {
            "tags": []
          },
          "execution_count": 19
        },
        {
          "output_type": "display_data",
          "data": {
            "image/png": "[encoded data removed]",
            "text/plain": [
              "<Figure size 1152x864 with 4 Axes>"
            ]
          },
          "metadata": {
            "tags": [],
            "needs_background": "light"
          }
        }
      ]
    },
    {
      "cell_type": "markdown",
      "metadata": {
        "id": "DllQqIib2cH7",
        "colab_type": "text"
      },
      "source": [
        "# Testing\n"
      ]
    },
    {
      "cell_type": "code",
      "metadata": {
        "id": "S8v_j5rg2Wl9",
        "colab_type": "code",
        "outputId": "1e6fb92f-868f-4b82-931d-a25f23f8f214",
        "colab": {
          "base_uri": "https://localhost:8080/",
          "height": 34
        }
      },
      "source": [
        "history_test = unet_model.evaluate(x=validation_generator)"
      ],
      "execution_count": 0,
      "outputs": [
        {
          "output_type": "stream",
          "text": [
            "346/346 [==============================] - 176s 507ms/step - loss: 0.0699 - mIoU: 0.6546\n"
          ],
          "name": "stdout"
        }
      ]
    },
    {
      "cell_type": "markdown",
      "metadata": {
        "id": "RnVq0FwC2pUA",
        "colab_type": "text"
      },
      "source": [
        "# Prediction"
      ]
    },
    {
      "cell_type": "code",
      "metadata": {
        "id": "zywEsNET2gyt",
        "colab_type": "code",
        "colab": {}
      },
      "source": [
        "PRED_DIR = '/content/drive/My Drive/prediction/'\n",
        "\n",
        "x_true = np.load(file=PRED_DIR + \"x_true.npy\", allow_pickle=True)\n",
        "\n",
        "def predict(images, model):\n",
        "  x_true = images\n",
        "  y_pred = np.argmax(model.predict(x_true), axis=-1)\n",
        "\n",
        "  return x_true, y_pred\n",
        "\n",
        "x_pred,y_pred = predict(x_true, unet_model) \n",
        "\n",
        "np.save(PRED_DIR+\"x_pred.npy\", x_true)\n",
        "np.save(PRED_DIR+\"y_pred.npy\", y_pred)"
      ],
      "execution_count": 0,
      "outputs": []
    },
    {
      "cell_type": "markdown",
      "metadata": {
        "id": "nrAKkObW20xP",
        "colab_type": "text"
      },
      "source": [
        "# Post-process Images"
      ]
    },
    {
      "cell_type": "code",
      "metadata": {
        "id": "qZNSARbF2wxJ",
        "colab_type": "code",
        "colab": {}
      },
      "source": [
        "# Create Color Array\n",
        "# min = 0, max = 250, interval = 20 \n",
        "def create_color_array(min, max, interval):\n",
        "  ab_color_list = []\n",
        "\n",
        "  for i in range(min, max, interval):\n",
        "    for j in range(min, max, interval):\n",
        "      ab_color_list.append([i, j])\n",
        "      j += interval\n",
        "    i += interval\n",
        "  \n",
        "  return ab_color_list\n",
        "\n",
        "def convert_numpy_target_array(color_array, target_numpy_array):\n",
        "  target_list = target_numpy_array.tolist()\n",
        "  a_list = []\n",
        "  b_list = []\n",
        "\n",
        "  for i in range(0, len(target_list)):\n",
        "    new_a_list_row = []\n",
        "    new_b_list_row = []\n",
        "    for j in range(0, len(target_list[i])):\n",
        "      a = color_array[target_list[i][j]][0]\n",
        "      b = color_array[target_list[i][j]][1]\n",
        "      new_a_list_row.append(a)\n",
        "      new_b_list_row.append(b)\n",
        "    a_list.append(new_a_list_row)\n",
        "    b_list.append(new_b_list_row)\n",
        "    \n",
        "    # L, a, b require specific data types 'dtype=uint8'\n",
        "    a_list_numpy_array = np.array(a_list, dtype=np.uint8)\n",
        "    b_list_numpy_array = np.array(b_list, dtype=np.uint8)\n",
        "\n",
        "  return (a_list_numpy_array, b_list_numpy_array)\n",
        "\n",
        "def post_process_image(x, y_pred, ab_color_list, index):\n",
        "  L = cv2.cvtColor(x, cv2.COLOR_RGB2GRAY)\n",
        "  a, b = convert_numpy_target_array(ab_color_list, y_pred)\n",
        "  merged_image = cv2.merge((L, a, b))\n",
        "  image_bgr = cv2.cvtColor(merged_image, cv2.COLOR_LAB2BGR)\n",
        "  cv2.imwrite(PRED_DIR+str(index)+'.jpg', image_bgr)\n"
      ],
      "execution_count": 0,
      "outputs": []
    },
    {
      "cell_type": "code",
      "metadata": {
        "id": "J9jZ3uiu27h1",
        "colab_type": "code",
        "colab": {}
      },
      "source": [
        "x = np.load(PRED_DIR+\"x_pred.npy\", allow_pickle=True)\n",
        "y_pred = np.load(PRED_DIR+\"y_pred.npy\", allow_pickle=True)\n",
        "\n",
        "ab_color_list = create_color_array(0, 260, 20)\n",
        "\n",
        "for i in range(len(x)):\n",
        "  post_process_image(x[i], y_pred[i], ab_color_list,  i)"
      ],
      "execution_count": 0,
      "outputs": []
    },
    {
      "cell_type": "markdown",
      "metadata": {
        "id": "UKOt2M3R3C0r",
        "colab_type": "text"
      },
      "source": [
        "# Misc."
      ]
    },
    {
      "cell_type": "code",
      "metadata": {
        "id": "zgwmyIa-2-RY",
        "colab_type": "code",
        "outputId": "88d169f0-97dc-4e4e-a2f7-5a7904e1dd78",
        "colab": {
          "base_uri": "https://localhost:8080/",
          "height": 85
        }
      },
      "source": [
        "gpu = tf.test.is_gpu_available(\n",
        "    cuda_only=False, min_cuda_compute_capability=None\n",
        ")\n",
        "\n",
        "print(gpu)"
      ],
      "execution_count": 0,
      "outputs": [
        {
          "output_type": "stream",
          "text": [
            "WARNING:tensorflow:From <ipython-input-17-15a6ddfc2aa0>:2: is_gpu_available (from tensorflow.python.framework.test_util) is deprecated and will be removed in a future version.\n",
            "Instructions for updating:\n",
            "Use `tf.config.list_physical_devices('GPU')` instead.\n",
            "True\n"
          ],
          "name": "stdout"
        }
      ]
    },
    {
      "cell_type": "code",
      "metadata": {
        "id": "5Z6XgM-b3Hc7",
        "colab_type": "code",
        "outputId": "80a3c913-dc8c-4a5f-cf52-bdc5fa4db543",
        "colab": {
          "base_uri": "https://localhost:8080/",
          "height": 289
        }
      },
      "source": [
        "gpu_info = !nvidia-smi\n",
        "gpu_info = '\\n'.join(gpu_info)\n",
        "if gpu_info.find('failed') >= 0:\n",
        "  print('Select the Runtime → \"Change runtime type\" menu to enable a GPU accelerator, ')\n",
        "  print('and then re-execute this cell.')\n",
        "else:\n",
        "  print(gpu_info)"
      ],
      "execution_count": 0,
      "outputs": [
        {
          "output_type": "stream",
          "text": [
            "Wed Apr 15 12:55:33 2020       \n",
            "+-----------------------------------------------------------------------------+\n",
            "| NVIDIA-SMI 440.64.00    Driver Version: 418.67       CUDA Version: 10.1     |\n",
            "|-------------------------------+----------------------+----------------------+\n",
            "| GPU  Name        Persistence-M| Bus-Id        Disp.A | Volatile Uncorr. ECC |\n",
            "| Fan  Temp  Perf  Pwr:Usage/Cap|         Memory-Usage | GPU-Util  Compute M. |\n",
            "|===============================+======================+======================|\n",
            "|   0  Tesla P100-PCIE...  Off  | 00000000:00:04.0 Off |                    0 |\n",
            "| N/A   52C    P0    33W / 250W |  10923MiB / 16280MiB |      0%      Default |\n",
            "+-------------------------------+----------------------+----------------------+\n",
            "                                                                               \n",
            "+-----------------------------------------------------------------------------+\n",
            "| Processes:                                                       GPU Memory |\n",
            "|  GPU       PID   Type   Process name                             Usage      |\n",
            "|=============================================================================|\n",
            "+-----------------------------------------------------------------------------+\n"
          ],
          "name": "stdout"
        }
      ]
    },
    {
      "cell_type": "code",
      "metadata": {
        "id": "AU-EXMQN4mNS",
        "colab_type": "code",
        "outputId": "340e1c88-9cac-433a-85f8-50d12d8bc138",
        "colab": {
          "base_uri": "https://localhost:8080/",
          "height": 68
        }
      },
      "source": [
        "from psutil import virtual_memory\n",
        "ram_gb = virtual_memory().total / 1e9\n",
        "print('Your runtime has {:.1f} gigabytes of available RAM\\n'.format(ram_gb))\n",
        "\n",
        "if ram_gb < 20:\n",
        "  print('To enable a high-RAM runtime, select the Runtime → \"Change runtime type\"')\n",
        "  print('menu, and then select High-RAM in the Runtime shape dropdown. Then, ')\n",
        "  print('re-execute this cell.')\n",
        "else:\n",
        "  print('You are using a high-RAM runtime!')"
      ],
      "execution_count": 0,
      "outputs": [
        {
          "output_type": "stream",
          "text": [
            "Your runtime has 27.4 gigabytes of available RAM\n",
            "\n",
            "You are using a high-RAM runtime!\n"
          ],
          "name": "stdout"
        }
      ]
    },
    {
      "cell_type": "code",
      "metadata": {
        "id": "NPju-XbTclCD",
        "colab_type": "code",
        "colab": {}
      },
      "source": [
        "# Create Color Array\n",
        "# min = 0, max = 250, interval = 20 \n",
        "def create_color_array(min, max, interval):\n",
        "  ab_color_list = []\n",
        "\n",
        "  for i in range(min, max, interval):\n",
        "    for j in range(min, max, interval):\n",
        "      ab_color_list.append([i, j])\n",
        "      j += interval\n",
        "    i += interval\n",
        "  \n",
        "  return ab_color_list\n",
        "\n",
        "def convert_numpy_target_array(color_array, target_numpy_array):\n",
        "  target_list = target_numpy_array.tolist()\n",
        "  a_list = []\n",
        "  b_list = []\n",
        "\n",
        "  for i in range(0, len(target_list)):\n",
        "    new_a_list_row = []\n",
        "    new_b_list_row = []\n",
        "    for j in range(0, len(target_list[i])):\n",
        "      a = color_array[target_list[i][j]][0]\n",
        "      b = color_array[target_list[i][j]][1]\n",
        "      new_a_list_row.append(a)\n",
        "      new_b_list_row.append(b)\n",
        "    a_list.append(new_a_list_row)\n",
        "    b_list.append(new_b_list_row)\n",
        "    \n",
        "    # L, a, b require specific data types 'dtype=uint8'\n",
        "    a_list_numpy_array = np.array(a_list, dtype=np.uint8)\n",
        "    b_list_numpy_array = np.array(b_list, dtype=np.uint8)\n",
        "\n",
        "  return (a_list_numpy_array, b_list_numpy_array)\n",
        "\n",
        "def post_process_image(x, y_pred, ab_color_list, index):\n",
        "  L = cv2.cvtColor(x, cv2.COLOR_RGB2GRAY)\n",
        "  a, b = convert_numpy_target_array(ab_color_list, y_pred)\n",
        "  merged_image = cv2.merge((L, a, b))\n",
        "  image_bgr = cv2.cvtColor(merged_image, cv2.COLOR_LAB2BGR)\n",
        "  cv2.imwrite(PRED_DIR+str(index)+'_true.jpg', image_bgr)\n"
      ],
      "execution_count": 0,
      "outputs": []
    },
    {
      "cell_type": "code",
      "metadata": {
        "id": "B56nCEInG4J9",
        "colab_type": "code",
        "colab": {}
      },
      "source": [
        "x_true = np.load(PRED_DIR+\"x_true.npy\", allow_pickle=True)\n",
        "y_true = np.load(PRED_DIR+\"y_true.npy\", allow_pickle=True)\n",
        "\n",
        "ab_color_list = create_color_array(0, 260, 20)\n",
        "\n",
        "for i in range(len(x_true)):\n",
        "  post_process_image(x_true[i], y_true[i], ab_color_list,  i)"
      ],
      "execution_count": 0,
      "outputs": []
    },
    {
      "cell_type": "code",
      "metadata": {
        "id": "nUH7z3tSHJe0",
        "colab_type": "code",
        "colab": {}
      },
      "source": [
        ""
      ],
      "execution_count": 0,
      "outputs": []
    }
  ]
}