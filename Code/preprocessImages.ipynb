{
  "nbformat": 4,
  "nbformat_minor": 0,
  "metadata": {
    "colab": {
      "name": "preprocessImages.ipynb",
      "provenance": [],
      "collapsed_sections": []
    },
    "kernelspec": {
      "name": "python3",
      "display_name": "Python 3"
    },
    "accelerator": "GPU"
  },
  "cells": [
    {
      "cell_type": "code",
      "metadata": {
        "id": "ZE5sUoceruH6",
        "colab_type": "code",
        "colab": {}
      },
      "source": [
        "# Imports\n",
        "import os\n",
        "import cv2\n",
        "from google.colab.patches import cv2_imshow\n",
        "import numpy as np\n",
        "from sklearn.model_selection import train_test_split"
      ],
      "execution_count": 0,
      "outputs": []
    },
    {
      "cell_type": "code",
      "metadata": {
        "id": "meEXbfHJr55a",
        "colab_type": "code",
        "colab": {}
      },
      "source": [
        "DATA_DIR   = \"/content/drive/My Drive/sample_10/\"\n",
        "IMG_WIDTH  = 512\n",
        "IMG_HEIGHT = 512\n",
        "TEST_SIZE  = 0.15"
      ],
      "execution_count": 0,
      "outputs": []
    },
    {
      "cell_type": "code",
      "metadata": {
        "id": "P0iAZMSnsaaI",
        "colab_type": "code",
        "colab": {
          "base_uri": "https://localhost:8080/",
          "height": 54
        },
        "outputId": "ad3fa40c-2f5d-473a-b9fd-f7490b60f04a"
      },
      "source": [
        "images_list = list()\n",
        "\n",
        "for file in os.listdir(DATA_DIR):\n",
        "  images_list.append(file)\n",
        "\n",
        "print(images_list)"
      ],
      "execution_count": 3,
      "outputs": [
        {
          "output_type": "stream",
          "text": [
            "['Places365_test_00000156.jpg', 'Places365_test_00000149.jpg', 'Places365_test_00000148.jpg', 'Places365_test_00000176.jpg', 'Places365_test_00000144.jpg', 'Places365_test_00000179.jpg', 'Places365_test_00000157.jpg', 'Places365_test_00000162.jpg', 'Places365_test_00000158.jpg', 'Places365_test_00000164.jpg']\n"
          ],
          "name": "stdout"
        }
      ]
    },
    {
      "cell_type": "code",
      "metadata": {
        "id": "qfo7GUFjs2HK",
        "colab_type": "code",
        "colab": {}
      },
      "source": [
        "# Find color array index\n",
        "# Interval == 20\n",
        "def calculate_color_index_interval_20(a,b):\n",
        "  if (a == 250):\n",
        "    a = 240\n",
        "  if (b == 250):\n",
        "    b = 240\n",
        "  index = round((a / 20), 0) * 13 + round((b / 20), 0)\n",
        "  return int(index)\n",
        "\n",
        "\n",
        "# Round Function\n",
        "def round_numpy_array(numpy_array):\n",
        "  new_rounded_list = []\n",
        "\n",
        "  for row in numpy_array:\n",
        "    new_row = []\n",
        "    for element in row:\n",
        "      new_row.append(round(element, -1))\n",
        "    new_rounded_list.append(new_row)\n",
        "  \n",
        "  return new_rounded_list\n",
        "\n",
        "\n",
        "# Round and calculate (For Interval of 20)\n",
        "def round_and_calculate_interval_20(a_list, b_list):\n",
        "  rounded_a_list = round_numpy_array(a_list.tolist())\n",
        "  rounded_b_list = round_numpy_array(b_list.tolist())\n",
        "  index_array = []\n",
        "\n",
        "  for i in range(0, len(rounded_a_list)):\n",
        "    new_row = []\n",
        "    for j in range(0, len(rounded_a_list[i])):\n",
        "      index = calculate_color_index_interval_20(rounded_a_list[i][j], rounded_b_list[i][j])\n",
        "      new_row.append(index)\n",
        "    index_array.append(new_row)\n",
        "  \n",
        "  return index_array\n",
        "\n",
        "\n",
        "# For Interval 20\n",
        "def process_image_interval_20(image_path, width, height):\n",
        "  img = cv2.imread(image_path) # read image\n",
        "  img_lab = cv2.cvtColor(img, cv2.COLOR_BGR2LAB) # convert from BGR to LAB\n",
        "  resized_img = cv2.resize(img_lab, (width,height)) # resize image\n",
        "\n",
        "  # split into L, a and b\n",
        "  L_array = resized_img[:, :, 0]\n",
        "  a_array = resized_img[:, :, 1]\n",
        "  b_array = resized_img[:, :, 2]\n",
        "\n",
        "  target_array = round_and_calculate_interval_20(a_array, b_array)\n",
        "\n",
        "  # NumPy data type needs to be 'dtype=np.uint16' or higher\n",
        "  numpy_target_array = np.array(target_array, dtype=np.uint16)\n",
        "\n",
        "  return (L_array, numpy_target_array)"
      ],
      "execution_count": 0,
      "outputs": []
    },
    {
      "cell_type": "code",
      "metadata": {
        "id": "BBttzir4xm3L",
        "colab_type": "code",
        "colab": {}
      },
      "source": [
        "def prepare_data(images_list, width, height):\n",
        "\n",
        "  x_list = list()\n",
        "  y_list = list()\n",
        "\n",
        "  for image in images_list:\n",
        "    image_path = DATA_DIR + image\n",
        "    x, y = process_image_interval_20(image_path, width, height)\n",
        "    x_list.append(x)\n",
        "    y_list.append(y)\n",
        "\n",
        "  return x_list, y_list\n",
        "\n",
        "\n",
        "def split_data_train_test(x_list, y_list, test_size):\n",
        "  \n",
        "  x_train, x_test, y_train, y_test = train_test_split(x_list, y_list, test_size=test_size)\n",
        "  \n",
        "  np.save(\"/content/drive/My Drive/sample_10/x_train.npy\", x_train)\n",
        "  np.save(\"/content/drive/My Drive/sample_10/y_train.npy\", y_train)\n",
        "  np.save(\"/content/drive/My Drive/sample_10/x_test.npy\", x_test)\n",
        "  np.save(\"/content/drive/My Drive/sample_10/y_test.npy\", y_test)"
      ],
      "execution_count": 0,
      "outputs": []
    },
    {
      "cell_type": "code",
      "metadata": {
        "id": "M4jl38XExvmb",
        "colab_type": "code",
        "colab": {}
      },
      "source": [
        "x_list, y_list = prepare_data(images_list, IMG_WIDTH, IMG_HEIGHT)"
      ],
      "execution_count": 0,
      "outputs": []
    },
    {
      "cell_type": "code",
      "metadata": {
        "id": "K3kToDBa-V-7",
        "colab_type": "code",
        "colab": {}
      },
      "source": [
        "split_data_train_test(x_list, y_list, TEST_SIZE)"
      ],
      "execution_count": 0,
      "outputs": []
    },
    {
      "cell_type": "code",
      "metadata": {
        "id": "UznltGpS-d1D",
        "colab_type": "code",
        "colab": {}
      },
      "source": [
        "x_train = np.load(\"/content/drive/My Drive/sample_10/x_train.npy\", allow_pickle=True)\n",
        "y_train = np.load(\"/content/drive/My Drive/sample_10/y_train.npy\", allow_pickle=True)\n",
        "x_test = np.load(\"/content/drive/My Drive/sample_10/x_test.npy\", allow_pickle=True)\n",
        "y_test = np.load(\"/content/drive/My Drive/sample_10/y_test.npy\", allow_pickle=True)"
      ],
      "execution_count": 0,
      "outputs": []
    },
    {
      "cell_type": "code",
      "metadata": {
        "id": "EpvYRh24-g4x",
        "colab_type": "code",
        "colab": {
          "base_uri": "https://localhost:8080/",
          "height": 850
        },
        "outputId": "14fe9b07-4405-4ea2-f23c-ae3bd4e9691c"
      },
      "source": [
        "print(x_train)"
      ],
      "execution_count": 3,
      "outputs": [
        {
          "output_type": "stream",
          "text": [
            "[[[253 249 241 ... 247 220 176]\n",
            "  [241 250 255 ... 252 176 155]\n",
            "  [249 242 252 ... 225 185 206]\n",
            "  ...\n",
            "  [ 25  26  52 ...   9  11  10]\n",
            "  [ 27  34  43 ...  10   9   8]\n",
            "  [ 29  39  23 ...  15   9   8]]\n",
            "\n",
            " [[237 229 246 ...  33  35  30]\n",
            "  [239 236 235 ...  35  26  23]\n",
            "  [235 241 228 ...  29  21  18]\n",
            "  ...\n",
            "  [ 52  58  63 ...  82  84  91]\n",
            "  [ 48  54  59 ...  77  78  81]\n",
            "  [ 47  52  53 ...  85  87  87]]\n",
            "\n",
            " [[220 196 214 ... 129 131 134]\n",
            "  [220 197 214 ... 138 141 145]\n",
            "  [218 197 214 ... 141 146 149]\n",
            "  ...\n",
            "  [ 81 104  92 ...  76  79  51]\n",
            "  [ 78  82  86 ...  51  57  56]\n",
            "  [ 85 107  80 ...  63  62  49]]\n",
            "\n",
            " ...\n",
            "\n",
            " [[184 185 187 ... 129 130 130]\n",
            "  [184 184 186 ... 129 130 130]\n",
            "  [186 186 187 ... 129 130 130]\n",
            "  ...\n",
            "  [ 34  51  50 ...  22  24  25]\n",
            "  [ 40  45  49 ...  18  20  21]\n",
            "  [ 46  44  78 ...  22  21  20]]\n",
            "\n",
            " [[234 234 234 ... 231 232 232]\n",
            "  [234 234 234 ... 231 232 232]\n",
            "  [234 234 234 ... 231 232 232]\n",
            "  ...\n",
            "  [172 172 172 ...  94  91  89]\n",
            "  [169 168 168 ...  85  92  93]\n",
            "  [163 162 163 ...  84  80  75]]\n",
            "\n",
            " [[195 195 196 ... 204 204 204]\n",
            "  [195 195 196 ... 204 204 204]\n",
            "  [195 195 196 ... 204 204 204]\n",
            "  ...\n",
            "  [128 124 155 ... 170 139 170]\n",
            "  [150 171 201 ... 157 156 157]\n",
            "  [200 203 188 ... 149 157 113]]]\n"
          ],
          "name": "stdout"
        }
      ]
    },
    {
      "cell_type": "code",
      "metadata": {
        "id": "OGLgXaAzLrPa",
        "colab_type": "code",
        "colab": {}
      },
      "source": [
        ""
      ],
      "execution_count": 0,
      "outputs": []
    }
  ]
}