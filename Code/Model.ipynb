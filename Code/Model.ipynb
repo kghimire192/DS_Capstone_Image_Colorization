{
  "nbformat": 4,
  "nbformat_minor": 0,
  "metadata": {
    "colab": {
      "name": "Model.ipynb",
      "provenance": []
    },
    "kernelspec": {
      "name": "python3",
      "display_name": "Python 3"
    },
    "accelerator": "GPU"
  },
  "cells": [
    {
      "cell_type": "markdown",
      "metadata": {
        "id": "TE2yzp0aCcy3",
        "colab_type": "text"
      },
      "source": [
        "# Image Colorization Using Deep Learning"
      ]
    },
    {
      "cell_type": "markdown",
      "metadata": {
        "id": "1ot-XHkK_drJ",
        "colab_type": "text"
      },
      "source": [
        "# Set-Up"
      ]
    },
    {
      "cell_type": "code",
      "metadata": {
        "id": "nwLqoa3G_Y-w",
        "colab_type": "code",
        "colab": {}
      },
      "source": [
        "import numpy as np\n",
        "import tensorflow as tf\n",
        "import matplotlib.pyplot as plt\n",
        "from tensorflow.keras.layers import *\n",
        "from tensorflow.keras.models import Model\n",
        "from tensorflow.keras.models import load_model\n",
        "from tensorflow.keras.applications.vgg16 import *\n",
        "\n",
        "import cv2\n",
        "from google.colab.patches import cv2_imshow\n",
        "\n",
        "tf.random.set_seed(42) \n",
        "np.random.seed(42)"
      ],
      "execution_count": 0,
      "outputs": []
    },
    {
      "cell_type": "markdown",
      "metadata": {
        "id": "FPoe8aW-_wA-",
        "colab_type": "text"
      },
      "source": [
        "# Data Preparation"
      ]
    },
    {
      "cell_type": "markdown",
      "metadata": {
        "id": "9IyGz2WfKh0S",
        "colab_type": "text"
      },
      "source": [
        "## Key Variables"
      ]
    },
    {
      "cell_type": "code",
      "metadata": {
        "id": "Pixkg0KKbaEs",
        "colab_type": "code",
        "colab": {}
      },
      "source": [
        "IMG_SIZE     = [224, 224]\n",
        "N_CHANNELS   = 3\n",
        "#N_CLASSES    = 338\n",
        "N_CLASSES = 169\n",
        "DATA_DIR     = \"/content/drive/My Drive/sample_10/\""
      ],
      "execution_count": 0,
      "outputs": []
    },
    {
      "cell_type": "markdown",
      "metadata": {
        "id": "VPFQLPW9fsv2",
        "colab_type": "text"
      },
      "source": [
        "## Loading Data"
      ]
    },
    {
      "cell_type": "code",
      "metadata": {
        "id": "96F2PDC_fiPR",
        "colab_type": "code",
        "colab": {}
      },
      "source": [
        "x_train = np.load(file=DATA_DIR+\"x_train.npy\", allow_pickle=True)\n",
        "y_train = np.load(file= DATA_DIR+\"y_train.npy\", allow_pickle=True)\n",
        "\n",
        "x_test = np.load(file=DATA_DIR+\"x_test.npy\", allow_pickle=True)\n",
        "y_test = np.load(file=DATA_DIR+\"y_test.npy\", allow_pickle=True)\n",
        "\n",
        "y_train = tf.keras.utils.to_categorical(y=y_train, num_classes=N_CLASSES)\n",
        "y_test = tf.keras.utils.to_categorical(y=y_test, num_classes=N_CLASSES)"
      ],
      "execution_count": 0,
      "outputs": []
    },
    {
      "cell_type": "markdown",
      "metadata": {
        "id": "xnauy9TE_5Mr",
        "colab_type": "text"
      },
      "source": [
        "# Model Architecture"
      ]
    },
    {
      "cell_type": "markdown",
      "metadata": {
        "id": "rBAB4HucKHsN",
        "colab_type": "text"
      },
      "source": [
        "## Model Building"
      ]
    },
    {
      "cell_type": "code",
      "metadata": {
        "id": "MK5CXZC_U817",
        "colab_type": "code",
        "colab": {}
      },
      "source": [
        "def FCN8(image_size, ch_in, ch_out):\n",
        "\n",
        "    inputs = Input(shape=(*image_size, ch_in), name='input')\n",
        "\n",
        "    # Building a pre-trained VGG-16 as a feature extractor\n",
        "    vgg16 = VGG16(include_top=False, weights='imagenet', input_tensor=inputs)\n",
        "\n",
        "    # Feature maps of final 3 blocks:\n",
        "    f3 = vgg16.get_layer('block3_pool').output  # shape: (28, 28, 256)\n",
        "    f4 = vgg16.get_layer('block4_pool').output  # shape: (14, 14, 512)\n",
        "    f5 = vgg16.get_layer('block5_pool').output  # shape: ( 7,  7, 512)\n",
        "\n",
        "    f5conv1 = Conv2D(filters=4086, kernel_size=7, padding='same', \n",
        "                     activation='relu')(f5)\n",
        "    f5drop1 = Dropout(0.5)(f5conv1)\n",
        "    f5conv2 = Conv2D(filters=4086, kernel_size=1, padding='same', \n",
        "                     activation='relu')(f5drop1)\n",
        "    f5drop2 = Dropout(0.5)(f5conv2)\n",
        "    f5conv3 = Conv2D(filters=ch_out, kernel_size=1, padding='same', \n",
        "                     activation=None)(f5drop2)\n",
        "\n",
        "    # Upscale f5 into a 14x14 feature map\n",
        "    f5conv3x2 = Conv2DTranspose(filters=ch_out, kernel_size=4, strides=2, \n",
        "                                use_bias=False, padding='same', \n",
        "                                activation='relu')(f5)\n",
        "    f4conv1 = Conv2D(filters=ch_out, kernel_size=1, padding='same', \n",
        "                     activation=None)(f4)\n",
        "    m1 = add([f4conv1, f5conv3x2])\n",
        "\n",
        "    m1x2 = Conv2DTranspose(filters=ch_out, kernel_size=4, strides=2, \n",
        "                           use_bias=False, padding='same', \n",
        "                           activation='relu')(m1)\n",
        "    f3conv1 = Conv2D(filters=ch_out, kernel_size=1, padding='same', \n",
        "                     activation=None)(f3)\n",
        "    m2 = add([f3conv1, m1x2])\n",
        "\n",
        "    # Upscale the feature map to the original shape of 224x224\n",
        "    outputs = Conv2DTranspose(filters=ch_out, kernel_size=16, strides=8, \n",
        "                              padding='same', activation='softmax')(m2)\n",
        "    \n",
        "    model = Model(inputs, outputs)\n",
        "    return model"
      ],
      "execution_count": 0,
      "outputs": []
    },
    {
      "cell_type": "markdown",
      "metadata": {
        "id": "HDQuw_w3KPtT",
        "colab_type": "text"
      },
      "source": [
        "## Model Instantiation and summary"
      ]
    },
    {
      "cell_type": "code",
      "metadata": {
        "id": "LoQtrJFDVLPl",
        "colab_type": "code",
        "outputId": "50c7a3c3-9d69-48de-9d25-7e169af8890d",
        "colab": {
          "base_uri": "https://localhost:8080/",
          "height": 1000
        }
      },
      "source": [
        "model = FCN8(IMG_SIZE, N_CHANNELS, N_CLASSES)\n",
        "model.summary()"
      ],
      "execution_count": 5,
      "outputs": [
        {
          "output_type": "stream",
          "text": [
            "Model: \"model\"\n",
            "__________________________________________________________________________________________________\n",
            "Layer (type)                    Output Shape         Param #     Connected to                     \n",
            "==================================================================================================\n",
            "input (InputLayer)              [(None, 224, 224, 3) 0                                            \n",
            "__________________________________________________________________________________________________\n",
            "block1_conv1 (Conv2D)           (None, 224, 224, 64) 1792        input[0][0]                      \n",
            "__________________________________________________________________________________________________\n",
            "block1_conv2 (Conv2D)           (None, 224, 224, 64) 36928       block1_conv1[0][0]               \n",
            "__________________________________________________________________________________________________\n",
            "block1_pool (MaxPooling2D)      (None, 112, 112, 64) 0           block1_conv2[0][0]               \n",
            "__________________________________________________________________________________________________\n",
            "block2_conv1 (Conv2D)           (None, 112, 112, 128 73856       block1_pool[0][0]                \n",
            "__________________________________________________________________________________________________\n",
            "block2_conv2 (Conv2D)           (None, 112, 112, 128 147584      block2_conv1[0][0]               \n",
            "__________________________________________________________________________________________________\n",
            "block2_pool (MaxPooling2D)      (None, 56, 56, 128)  0           block2_conv2[0][0]               \n",
            "__________________________________________________________________________________________________\n",
            "block3_conv1 (Conv2D)           (None, 56, 56, 256)  295168      block2_pool[0][0]                \n",
            "__________________________________________________________________________________________________\n",
            "block3_conv2 (Conv2D)           (None, 56, 56, 256)  590080      block3_conv1[0][0]               \n",
            "__________________________________________________________________________________________________\n",
            "block3_conv3 (Conv2D)           (None, 56, 56, 256)  590080      block3_conv2[0][0]               \n",
            "__________________________________________________________________________________________________\n",
            "block3_pool (MaxPooling2D)      (None, 28, 28, 256)  0           block3_conv3[0][0]               \n",
            "__________________________________________________________________________________________________\n",
            "block4_conv1 (Conv2D)           (None, 28, 28, 512)  1180160     block3_pool[0][0]                \n",
            "__________________________________________________________________________________________________\n",
            "block4_conv2 (Conv2D)           (None, 28, 28, 512)  2359808     block4_conv1[0][0]               \n",
            "__________________________________________________________________________________________________\n",
            "block4_conv3 (Conv2D)           (None, 28, 28, 512)  2359808     block4_conv2[0][0]               \n",
            "__________________________________________________________________________________________________\n",
            "block4_pool (MaxPooling2D)      (None, 14, 14, 512)  0           block4_conv3[0][0]               \n",
            "__________________________________________________________________________________________________\n",
            "block5_conv1 (Conv2D)           (None, 14, 14, 512)  2359808     block4_pool[0][0]                \n",
            "__________________________________________________________________________________________________\n",
            "block5_conv2 (Conv2D)           (None, 14, 14, 512)  2359808     block5_conv1[0][0]               \n",
            "__________________________________________________________________________________________________\n",
            "block5_conv3 (Conv2D)           (None, 14, 14, 512)  2359808     block5_conv2[0][0]               \n",
            "__________________________________________________________________________________________________\n",
            "block5_pool (MaxPooling2D)      (None, 7, 7, 512)    0           block5_conv3[0][0]               \n",
            "__________________________________________________________________________________________________\n",
            "conv2d_3 (Conv2D)               (None, 14, 14, 169)  86697       block4_pool[0][0]                \n",
            "__________________________________________________________________________________________________\n",
            "conv2d_transpose (Conv2DTranspo (None, 14, 14, 169)  1384448     block5_pool[0][0]                \n",
            "__________________________________________________________________________________________________\n",
            "add (Add)                       (None, 14, 14, 169)  0           conv2d_3[0][0]                   \n",
            "                                                                 conv2d_transpose[0][0]           \n",
            "__________________________________________________________________________________________________\n",
            "conv2d_4 (Conv2D)               (None, 28, 28, 169)  43433       block3_pool[0][0]                \n",
            "__________________________________________________________________________________________________\n",
            "conv2d_transpose_1 (Conv2DTrans (None, 28, 28, 169)  456976      add[0][0]                        \n",
            "__________________________________________________________________________________________________\n",
            "add_1 (Add)                     (None, 28, 28, 169)  0           conv2d_4[0][0]                   \n",
            "                                                                 conv2d_transpose_1[0][0]         \n",
            "__________________________________________________________________________________________________\n",
            "conv2d_transpose_2 (Conv2DTrans (None, 224, 224, 169 7311785     add_1[0][0]                      \n",
            "==================================================================================================\n",
            "Total params: 23,998,027\n",
            "Trainable params: 23,998,027\n",
            "Non-trainable params: 0\n",
            "__________________________________________________________________________________________________\n"
          ],
          "name": "stdout"
        }
      ]
    },
    {
      "cell_type": "markdown",
      "metadata": {
        "id": "QVrrGkiI6JoL",
        "colab_type": "text"
      },
      "source": [
        "# Training Preparation "
      ]
    },
    {
      "cell_type": "markdown",
      "metadata": {
        "id": "NFlTtLTv6TLa",
        "colab_type": "text"
      },
      "source": [
        "## Metrics and Loss"
      ]
    },
    {
      "cell_type": "markdown",
      "metadata": {
        "id": "-SgJJaSC6ije",
        "colab_type": "text"
      },
      "source": [
        "**Metrices:** Accuracy and IoU\n",
        "\n",
        "\n",
        "**Loss:** cross-entropy vs. Dice"
      ]
    },
    {
      "cell_type": "code",
      "metadata": {
        "id": "nys_Fa4Q9OO-",
        "colab_type": "code",
        "colab": {}
      },
      "source": [
        "accuracy = tf.metrics.Accuracy(name='acc')\n",
        "meanIoU  = tf.metrics.MeanIoU(num_classes=N_CLASSES, name='mIoU')\n",
        "loss_c = tf.keras.losses.CategoricalCrossentropy()"
      ],
      "execution_count": 0,
      "outputs": []
    },
    {
      "cell_type": "markdown",
      "metadata": {
        "id": "iJ5JcscnDRYV",
        "colab_type": "text"
      },
      "source": [
        "Since we are doing multi-class classification task (pixel-level classification), we can use **cross-entropy loss**. However, to prevent the model from developing bias towards larger classes, **dice loss function** will be used because it is not affected by class proportions."
      ]
    },
    {
      "cell_type": "code",
      "metadata": {
        "id": "PxhC03Iv9JbJ",
        "colab_type": "code",
        "colab": {}
      },
      "source": [
        "# TODO: Dice loss"
      ],
      "execution_count": 0,
      "outputs": []
    },
    {
      "cell_type": "markdown",
      "metadata": {
        "id": "jHeQSXuxB3MA",
        "colab_type": "text"
      },
      "source": [
        "## Optimizer and Callbacks"
      ]
    },
    {
      "cell_type": "code",
      "metadata": {
        "id": "K4K9-_dF-vx7",
        "colab_type": "code",
        "colab": {}
      },
      "source": [
        "optimizer = tf.keras.optimizers.Adam()\n",
        "callbacks = [tf.keras.callbacks.ModelCheckpoint(DATA_DIR+'fcn8.hdf5')]"
      ],
      "execution_count": 0,
      "outputs": []
    },
    {
      "cell_type": "markdown",
      "metadata": {
        "id": "DMVfiCfUJR9W",
        "colab_type": "text"
      },
      "source": [
        "## Hyper Parameters"
      ]
    },
    {
      "cell_type": "code",
      "metadata": {
        "id": "FHiDhgDHJX89",
        "colab_type": "code",
        "colab": {}
      },
      "source": [
        "BATCH_SIZE     = 8\n",
        "NUM_EPOCHS     = 5"
      ],
      "execution_count": 0,
      "outputs": []
    },
    {
      "cell_type": "markdown",
      "metadata": {
        "id": "3rcwJg2WJsEb",
        "colab_type": "text"
      },
      "source": [
        "## Helper Functions"
      ]
    },
    {
      "cell_type": "code",
      "metadata": {
        "id": "fXD1y7E-JwUZ",
        "colab_type": "code",
        "colab": {}
      },
      "source": [
        ""
      ],
      "execution_count": 0,
      "outputs": []
    },
    {
      "cell_type": "markdown",
      "metadata": {
        "id": "8vqN7H9pAxfw",
        "colab_type": "text"
      },
      "source": [
        "# Training"
      ]
    },
    {
      "cell_type": "code",
      "metadata": {
        "id": "gHn6uXR_A0EE",
        "colab_type": "code",
        "colab": {
          "base_uri": "https://localhost:8080/",
          "height": 207
        },
        "outputId": "6abe83fc-e33e-4b87-d99b-990ba666a2ce"
      },
      "source": [
        "model.compile(optimizer=optimizer, loss=loss_c, metrics=[accuracy, meanIoU])\n",
        "history = model.fit(x=x_train, y=y_train, batch_size=BATCH_SIZE, \n",
        "                    epochs=NUM_EPOCHS, validation_split=0.1765)\n",
        "                    #callbacks=callbacks)"
      ],
      "execution_count": 10,
      "outputs": [
        {
          "output_type": "stream",
          "text": [
            "Epoch 1/5\n",
            "1/1 [==============================] - 2s 2s/step - loss: 16.0071 - acc: 0.8900 - mIoU: 0.4963 - val_loss: 14.0558 - val_acc: 0.9855 - val_mIoU: 0.5273\n",
            "Epoch 2/5\n",
            "1/1 [==============================] - 0s 280ms/step - loss: 13.7948 - acc: 0.9850 - mIoU: 0.5315 - val_loss: 12.5034 - val_acc: 0.9904 - val_mIoU: 0.5578\n",
            "Epoch 3/5\n",
            "1/1 [==============================] - 0s 271ms/step - loss: 12.1107 - acc: 0.9907 - mIoU: 0.5656 - val_loss: 10.9995 - val_acc: 0.9917 - val_mIoU: 0.5902\n",
            "Epoch 4/5\n",
            "1/1 [==============================] - 0s 273ms/step - loss: 11.2809 - acc: 0.9915 - mIoU: 0.5839 - val_loss: 10.3812 - val_acc: 0.9923 - val_mIoU: 0.6044\n",
            "Epoch 5/5\n",
            "1/1 [==============================] - 0s 280ms/step - loss: 10.9481 - acc: 0.9919 - mIoU: 0.5915 - val_loss: 10.1142 - val_acc: 0.9926 - val_mIoU: 0.6107\n"
          ],
          "name": "stdout"
        }
      ]
    },
    {
      "cell_type": "code",
      "metadata": {
        "id": "qIiQzJEJhru6",
        "colab_type": "code",
        "colab": {}
      },
      "source": [
        "# Save the entire model to a HDF5 file.\n",
        "# The '.h5' extension indicates that the model should be saved to HDF5.\n",
        "model.save(DATA_DIR+'fcn8model.h5') "
      ],
      "execution_count": 0,
      "outputs": []
    },
    {
      "cell_type": "markdown",
      "metadata": {
        "id": "485WQVV04CTc",
        "colab_type": "text"
      },
      "source": [
        "## Graphs"
      ]
    },
    {
      "cell_type": "code",
      "metadata": {
        "id": "Ed9rsxLFbZKo",
        "colab_type": "code",
        "colab": {
          "base_uri": "https://localhost:8080/",
          "height": 733
        },
        "outputId": "cd3e7fad-e006-43d3-f8d4-972108afc4c0"
      },
      "source": [
        "fig, ax = plt.subplots(2, 2, figsize=(16, 12))\n",
        "ax[0, 0].set_title(\"Accuracy\")\n",
        "ax[0, 1].set_title(\"Val-Accuracy\")\n",
        "ax[1, 0].set_title(\"Loss\")\n",
        "ax[1, 1].set_title(\"Val-Loss\")\n",
        "\n",
        "ax[0, 0].plot(history.history['acc'])\n",
        "ax[0, 1].plot(history.history['val_acc'])\n",
        "ax[1, 0].plot(history.history['loss'])\n",
        "ax[1, 1].plot(history.history['val_loss'])"
      ],
      "execution_count": 12,
      "outputs": [
        {
          "output_type": "execute_result",
          "data": {
            "text/plain": [
              "[<matplotlib.lines.Line2D at 0x7f4468d84518>]"
            ]
          },
          "metadata": {
            "tags": []
          },
          "execution_count": 12
        },
        {
          "output_type": "display_data",
          "data": {
            "image/png": "[encoded data removed]",
            "text/plain": [
              "<Figure size 1152x864 with 4 Axes>"
            ]
          },
          "metadata": {
            "tags": [],
            "needs_background": "light"
          }
        }
      ]
    },
    {
      "cell_type": "markdown",
      "metadata": {
        "id": "inaq-7OmXrBT",
        "colab_type": "text"
      },
      "source": [
        "# Testing"
      ]
    },
    {
      "cell_type": "code",
      "metadata": {
        "id": "VKVDuTLBXuYC",
        "colab_type": "code",
        "colab": {
          "base_uri": "https://localhost:8080/",
          "height": 34
        },
        "outputId": "b84b73f6-6e5a-4a90-bd70-e26cd17b2117"
      },
      "source": [
        "history_test = model.evaluate(x=x_test, y=y_test)"
      ],
      "execution_count": 13,
      "outputs": [
        {
          "output_type": "stream",
          "text": [
            "1/1 [==============================] - 0s 1ms/step - loss: 11.8157 - acc: 0.9820 - mIoU: 0.5719\n"
          ],
          "name": "stdout"
        }
      ]
    },
    {
      "cell_type": "markdown",
      "metadata": {
        "id": "1LaZOA8rXxh-",
        "colab_type": "text"
      },
      "source": [
        "# Prediction"
      ]
    },
    {
      "cell_type": "code",
      "metadata": {
        "id": "ske2VVH-ASmv",
        "colab_type": "code",
        "colab": {
          "base_uri": "https://localhost:8080/",
          "height": 34
        },
        "outputId": "02b647f4-6aeb-428d-ae15-5b6568adf412"
      },
      "source": [
        "loaded_model = load_model(DATA_DIR+'fcn8model.h5')"
      ],
      "execution_count": 16,
      "outputs": [
        {
          "output_type": "stream",
          "text": [
            "WARNING:tensorflow:Error in loading the saved optimizer state. As a result, your model is starting with a freshly initialized optimizer.\n"
          ],
          "name": "stdout"
        }
      ]
    },
    {
      "cell_type": "code",
      "metadata": {
        "id": "PKgXVREiBZwn",
        "colab_type": "code",
        "colab": {}
      },
      "source": [
        "def predict(images, model):\n",
        "  x = images\n",
        "  y_pred = np.argmax(model.predict(x), axis=-1)\n",
        "\n",
        "  return x, y_pred\n",
        "\n",
        "x,y_pred = predict(x_train, loaded_model) #TODO: Decide on loaded or other model\n",
        "\n",
        "np.save(\"/content/drive/My Drive/sample_10/x_pred.npy\", x)\n",
        "np.save(\"/content/drive/My Drive/sample_10/y_pred.npy\", y_pred)"
      ],
      "execution_count": 0,
      "outputs": []
    },
    {
      "cell_type": "markdown",
      "metadata": {
        "id": "QudgmvzZfaoF",
        "colab_type": "text"
      },
      "source": [
        "# Post-process Images"
      ]
    },
    {
      "cell_type": "code",
      "metadata": {
        "id": "dEAZgJSSZd-O",
        "colab_type": "code",
        "colab": {}
      },
      "source": [
        "# Create Color Array\n",
        "# min = 0, max = 250, interval = 20 \n",
        "def create_color_array(min, max, interval):\n",
        "  ab_color_list = []\n",
        "\n",
        "  for i in range(min, max, interval):\n",
        "    for j in range(min, max, interval):\n",
        "      ab_color_list.append([i, j])\n",
        "      j += interval\n",
        "    i += interval\n",
        "  \n",
        "  return ab_color_list\n",
        "\n",
        "def convert_numpy_target_array(color_array, target_numpy_array):\n",
        "  target_list = target_numpy_array.tolist()\n",
        "  a_list = []\n",
        "  b_list = []\n",
        "\n",
        "  for i in range(0, len(target_list)):\n",
        "    new_a_list_row = []\n",
        "    new_b_list_row = []\n",
        "    for j in range(0, len(target_list[i])):\n",
        "      a = color_array[target_list[i][j]][0]\n",
        "      b = color_array[target_list[i][j]][1]\n",
        "      new_a_list_row.append(a)\n",
        "      new_b_list_row.append(b)\n",
        "    a_list.append(new_a_list_row)\n",
        "    b_list.append(new_b_list_row)\n",
        "    \n",
        "    # L, a, b require specific data types 'dtype=uint8'\n",
        "    a_list_numpy_array = np.array(a_list, dtype=np.uint8)\n",
        "    b_list_numpy_array = np.array(b_list, dtype=np.uint8)\n",
        "\n",
        "  return (a_list_numpy_array, b_list_numpy_array)\n",
        "\n",
        "def post_process_image(x, y_pred, ab_color_list, index):\n",
        "  L = cv2.cvtColor(x, cv2.COLOR_RGB2GRAY)\n",
        "  a, b = convert_numpy_target_array(ab_color_list, y_pred)\n",
        "  merged_image = cv2.merge((L, a, b))\n",
        "  image_bgr = cv2.cvtColor(merged_image, cv2.COLOR_LAB2BGR)\n",
        "  cv2.imwrite(DATA_DIR+str(index)+'.jpg', image_bgr)\n"
      ],
      "execution_count": 0,
      "outputs": []
    },
    {
      "cell_type": "code",
      "metadata": {
        "id": "JlbA89bkbqIj",
        "colab_type": "code",
        "colab": {}
      },
      "source": [
        "x = np.load(\"/content/drive/My Drive/sample_10/x_pred.npy\", allow_pickle=True)\n",
        "y_pred = np.load(\"/content/drive/My Drive/sample_10/y_pred.npy\", allow_pickle=True)\n",
        "\n",
        "ab_color_list = create_color_array(0, 260, 20)\n",
        "\n",
        "for i in range(len(x)):\n",
        "  post_process_image(x[i], y_pred[i], ab_color_list,  i)"
      ],
      "execution_count": 0,
      "outputs": []
    },
    {
      "cell_type": "markdown",
      "metadata": {
        "id": "jEHKmCL4c8RI",
        "colab_type": "text"
      },
      "source": [
        "# Misc."
      ]
    },
    {
      "cell_type": "code",
      "metadata": {
        "id": "Tw8VQXwFfdVj",
        "colab_type": "code",
        "outputId": "c4861c10-2cee-4d59-cbe6-b56363c88211",
        "colab": {
          "base_uri": "https://localhost:8080/",
          "height": 85
        }
      },
      "source": [
        "gpu = tf.test.is_gpu_available(\n",
        "    cuda_only=False, min_cuda_compute_capability=None\n",
        ")\n",
        "\n",
        "print(gpu)"
      ],
      "execution_count": 0,
      "outputs": [
        {
          "output_type": "stream",
          "text": [
            "WARNING:tensorflow:From <ipython-input-44-15a6ddfc2aa0>:2: is_gpu_available (from tensorflow.python.framework.test_util) is deprecated and will be removed in a future version.\n",
            "Instructions for updating:\n",
            "Use `tf.config.list_physical_devices('GPU')` instead.\n",
            "True\n"
          ],
          "name": "stdout"
        }
      ]
    },
    {
      "cell_type": "code",
      "metadata": {
        "id": "eTAIlJbV_LiH",
        "colab_type": "code",
        "colab": {}
      },
      "source": [
        ""
      ],
      "execution_count": 0,
      "outputs": []
    }
  ]
}