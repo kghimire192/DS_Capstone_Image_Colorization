{
  "nbformat": 4,
  "nbformat_minor": 0,
  "metadata": {
    "colab": {
      "name": "Model.ipynb",
      "provenance": []
    },
    "kernelspec": {
      "name": "python3",
      "display_name": "Python 3"
    },
    "accelerator": "GPU"
  },
  "cells": [
    {
      "cell_type": "markdown",
      "metadata": {
        "id": "TE2yzp0aCcy3",
        "colab_type": "text"
      },
      "source": [
        "# Image Colorization Using Deep Learning"
      ]
    },
    {
      "cell_type": "markdown",
      "metadata": {
        "id": "1ot-XHkK_drJ",
        "colab_type": "text"
      },
      "source": [
        "# Set-Up"
      ]
    },
    {
      "cell_type": "code",
      "metadata": {
        "id": "nwLqoa3G_Y-w",
        "colab_type": "code",
        "colab": {}
      },
      "source": [
        "import numpy as np\n",
        "import tensorflow as tf\n",
        "import matplotlib.pyplot as plt\n",
        "from tensorflow.keras.layers import *\n",
        "from tensorflow.keras.models import Model\n",
        "from tensorflow.keras.applications.vgg16 import *\n",
        "\n",
        "tf.random.set_seed(42) \n",
        "np.random.seed(42)"
      ],
      "execution_count": 0,
      "outputs": []
    },
    {
      "cell_type": "markdown",
      "metadata": {
        "id": "FPoe8aW-_wA-",
        "colab_type": "text"
      },
      "source": [
        "# Data Preparation"
      ]
    },
    {
      "cell_type": "markdown",
      "metadata": {
        "id": "9IyGz2WfKh0S",
        "colab_type": "text"
      },
      "source": [
        "## Key Variables"
      ]
    },
    {
      "cell_type": "code",
      "metadata": {
        "id": "Pixkg0KKbaEs",
        "colab_type": "code",
        "colab": {}
      },
      "source": [
        "IMG_SIZE     = [224, 224]\n",
        "N_CHANNELS   = 3\n",
        "N_CLASSES    = 338\n",
        "DATA_DIR     = \"/content/drive/My Drive/sample_10/\""
      ],
      "execution_count": 0,
      "outputs": []
    },
    {
      "cell_type": "markdown",
      "metadata": {
        "id": "VPFQLPW9fsv2",
        "colab_type": "text"
      },
      "source": [
        "## Loading Data"
      ]
    },
    {
      "cell_type": "code",
      "metadata": {
        "id": "96F2PDC_fiPR",
        "colab_type": "code",
        "colab": {}
      },
      "source": [
        "x_train = np.load(file=DATA_DIR+\"x_train.npy\", allow_pickle=True)\n",
        "y_train = np.load(file= DATA_DIR+\"y_train.npy\", allow_pickle=True)\n",
        "\n",
        "x_test = np.load(file=DATA_DIR+\"x_test.npy\", allow_pickle=True)\n",
        "y_test = np.load(file=DATA_DIR+\"y_test.npy\", allow_pickle=True)\n",
        "\n",
        "y_train = tf.keras.utils.to_categorical(y=y_train, num_classes=N_CLASSES)\n",
        "y_test = tf.keras.utils.to_categorical(y=y_test, num_classes=N_CLASSES)"
      ],
      "execution_count": 0,
      "outputs": []
    },
    {
      "cell_type": "markdown",
      "metadata": {
        "id": "xnauy9TE_5Mr",
        "colab_type": "text"
      },
      "source": [
        "# Model Architecture"
      ]
    },
    {
      "cell_type": "markdown",
      "metadata": {
        "id": "rBAB4HucKHsN",
        "colab_type": "text"
      },
      "source": [
        "## Model Building"
      ]
    },
    {
      "cell_type": "code",
      "metadata": {
        "id": "MK5CXZC_U817",
        "colab_type": "code",
        "colab": {}
      },
      "source": [
        "def FCN8(image_size, ch_in, ch_out):\n",
        "  \n",
        "    inputs = Input(shape=(*image_size, ch_in), name='input')\n",
        "\n",
        "    # Building a pre-trained VGG-16 as a feature extractor, without the final FC layers\n",
        "    vgg16 = VGG16(include_top=False, weights='imagenet', input_tensor=inputs)\n",
        "\n",
        "    # Feature maps of final 3 blocks:\n",
        "    f3 = vgg16.get_layer('block3_pool').output  # shape: (28, 28, 256)\n",
        "    f4 = vgg16.get_layer('block4_pool').output  # shape: (14, 14, 512)\n",
        "    f5 = vgg16.get_layer('block5_pool').output  # shape: ( 7,  7, 512)\n",
        "\n",
        "    f5conv1 = Conv2D(filters=4086, kernel_size=7, padding='same', activation='relu')(f5)\n",
        "    f5drop1 = Dropout(0.5)(f5conv1)\n",
        "    f5conv2 = Conv2D(filters=4086, kernel_size=1, padding='same', activation='relu')(f5drop1)\n",
        "    f5drop2 = Dropout(0.5)(f5conv2)\n",
        "    f5conv3 = Conv2D(filters=ch_out, kernel_size=1, padding='same', activation=None)(f5drop2)\n",
        "\n",
        "    # Upscale f5 into a 14x14 feature map\n",
        "    f5conv3x2 = Conv2DTranspose(filters=ch_out, kernel_size=4, strides=2, use_bias=False, padding='same', activation='relu')(f5)\n",
        "    f4conv1 = Conv2D(filters=ch_out, kernel_size=1, padding='same', activation=None)(f4)\n",
        "    m1 = add([f4conv1, f5conv3x2])\n",
        "\n",
        "    m1x2 = Conv2DTranspose(filters=ch_out, kernel_size=4, strides=2, use_bias=False, padding='same', activation='relu')(m1)\n",
        "    f3conv1 = Conv2D(filters=ch_out, kernel_size=1, padding='same', activation=None)(f3)\n",
        "    m2 = add([f3conv1, m1x2])\n",
        "\n",
        "    # Upscale the feature map to the original shape of 224x224\n",
        "    outputs = Conv2DTranspose(filters=ch_out, kernel_size=16, strides=8, padding='same', activation='softmax')(m2)\n",
        "    \n",
        "    model = Model(inputs, outputs)\n",
        "    return model"
      ],
      "execution_count": 0,
      "outputs": []
    },
    {
      "cell_type": "markdown",
      "metadata": {
        "id": "HDQuw_w3KPtT",
        "colab_type": "text"
      },
      "source": [
        "## Model Instantiation and summary"
      ]
    },
    {
      "cell_type": "code",
      "metadata": {
        "id": "LoQtrJFDVLPl",
        "colab_type": "code",
        "outputId": "ab09a644-9f43-4934-eac8-9cd022cf5268",
        "colab": {
          "base_uri": "https://localhost:8080/",
          "height": 1000
        }
      },
      "source": [
        "model = FCN8(IMG_SIZE, N_CHANNELS, N_CLASSES)\n",
        "model.summary()"
      ],
      "execution_count": 5,
      "outputs": [
        {
          "output_type": "stream",
          "text": [
            "Model: \"model\"\n",
            "__________________________________________________________________________________________________\n",
            "Layer (type)                    Output Shape         Param #     Connected to                     \n",
            "==================================================================================================\n",
            "input (InputLayer)              [(None, 224, 224, 3) 0                                            \n",
            "__________________________________________________________________________________________________\n",
            "block1_conv1 (Conv2D)           (None, 224, 224, 64) 1792        input[0][0]                      \n",
            "__________________________________________________________________________________________________\n",
            "block1_conv2 (Conv2D)           (None, 224, 224, 64) 36928       block1_conv1[0][0]               \n",
            "__________________________________________________________________________________________________\n",
            "block1_pool (MaxPooling2D)      (None, 112, 112, 64) 0           block1_conv2[0][0]               \n",
            "__________________________________________________________________________________________________\n",
            "block2_conv1 (Conv2D)           (None, 112, 112, 128 73856       block1_pool[0][0]                \n",
            "__________________________________________________________________________________________________\n",
            "block2_conv2 (Conv2D)           (None, 112, 112, 128 147584      block2_conv1[0][0]               \n",
            "__________________________________________________________________________________________________\n",
            "block2_pool (MaxPooling2D)      (None, 56, 56, 128)  0           block2_conv2[0][0]               \n",
            "__________________________________________________________________________________________________\n",
            "block3_conv1 (Conv2D)           (None, 56, 56, 256)  295168      block2_pool[0][0]                \n",
            "__________________________________________________________________________________________________\n",
            "block3_conv2 (Conv2D)           (None, 56, 56, 256)  590080      block3_conv1[0][0]               \n",
            "__________________________________________________________________________________________________\n",
            "block3_conv3 (Conv2D)           (None, 56, 56, 256)  590080      block3_conv2[0][0]               \n",
            "__________________________________________________________________________________________________\n",
            "block3_pool (MaxPooling2D)      (None, 28, 28, 256)  0           block3_conv3[0][0]               \n",
            "__________________________________________________________________________________________________\n",
            "block4_conv1 (Conv2D)           (None, 28, 28, 512)  1180160     block3_pool[0][0]                \n",
            "__________________________________________________________________________________________________\n",
            "block4_conv2 (Conv2D)           (None, 28, 28, 512)  2359808     block4_conv1[0][0]               \n",
            "__________________________________________________________________________________________________\n",
            "block4_conv3 (Conv2D)           (None, 28, 28, 512)  2359808     block4_conv2[0][0]               \n",
            "__________________________________________________________________________________________________\n",
            "block4_pool (MaxPooling2D)      (None, 14, 14, 512)  0           block4_conv3[0][0]               \n",
            "__________________________________________________________________________________________________\n",
            "block5_conv1 (Conv2D)           (None, 14, 14, 512)  2359808     block4_pool[0][0]                \n",
            "__________________________________________________________________________________________________\n",
            "block5_conv2 (Conv2D)           (None, 14, 14, 512)  2359808     block5_conv1[0][0]               \n",
            "__________________________________________________________________________________________________\n",
            "block5_conv3 (Conv2D)           (None, 14, 14, 512)  2359808     block5_conv2[0][0]               \n",
            "__________________________________________________________________________________________________\n",
            "block5_pool (MaxPooling2D)      (None, 7, 7, 512)    0           block5_conv3[0][0]               \n",
            "__________________________________________________________________________________________________\n",
            "conv2d_3 (Conv2D)               (None, 14, 14, 338)  173394      block4_pool[0][0]                \n",
            "__________________________________________________________________________________________________\n",
            "conv2d_transpose (Conv2DTranspo (None, 14, 14, 338)  2768896     block5_pool[0][0]                \n",
            "__________________________________________________________________________________________________\n",
            "add (Add)                       (None, 14, 14, 338)  0           conv2d_3[0][0]                   \n",
            "                                                                 conv2d_transpose[0][0]           \n",
            "__________________________________________________________________________________________________\n",
            "conv2d_4 (Conv2D)               (None, 28, 28, 338)  86866       block3_pool[0][0]                \n",
            "__________________________________________________________________________________________________\n",
            "conv2d_transpose_1 (Conv2DTrans (None, 28, 28, 338)  1827904     add[0][0]                        \n",
            "__________________________________________________________________________________________________\n",
            "add_1 (Add)                     (None, 28, 28, 338)  0           conv2d_4[0][0]                   \n",
            "                                                                 conv2d_transpose_1[0][0]         \n",
            "__________________________________________________________________________________________________\n",
            "conv2d_transpose_2 (Conv2DTrans (None, 224, 224, 338 29246802    add_1[0][0]                      \n",
            "==================================================================================================\n",
            "Total params: 48,818,550\n",
            "Trainable params: 48,818,550\n",
            "Non-trainable params: 0\n",
            "__________________________________________________________________________________________________\n"
          ],
          "name": "stdout"
        }
      ]
    },
    {
      "cell_type": "markdown",
      "metadata": {
        "id": "QVrrGkiI6JoL",
        "colab_type": "text"
      },
      "source": [
        "# Training Preparation "
      ]
    },
    {
      "cell_type": "markdown",
      "metadata": {
        "id": "NFlTtLTv6TLa",
        "colab_type": "text"
      },
      "source": [
        "## Metrics and Loss"
      ]
    },
    {
      "cell_type": "markdown",
      "metadata": {
        "id": "-SgJJaSC6ije",
        "colab_type": "text"
      },
      "source": [
        "**Metrices:** Accuracy and IoU\n",
        "\n",
        "\n",
        "**Loss:** cross-entropy vs. Dice"
      ]
    },
    {
      "cell_type": "code",
      "metadata": {
        "id": "nys_Fa4Q9OO-",
        "colab_type": "code",
        "colab": {}
      },
      "source": [
        "accuracy = tf.metrics.Accuracy(name='acc')\n",
        "meanIoU  = tf.metrics.MeanIoU(num_classes=N_CLASSES, name='mIoU')\n",
        "loss_c = tf.keras.losses.CategoricalCrossentropy()"
      ],
      "execution_count": 0,
      "outputs": []
    },
    {
      "cell_type": "markdown",
      "metadata": {
        "id": "iJ5JcscnDRYV",
        "colab_type": "text"
      },
      "source": [
        "Since we are doing multi-class classification task (pixel-level classification), we can use **cross-entropy loss**. However, to prevent the model from developing bias towards larger classes, **dice loss function** will be used because it is not affected by class proportions."
      ]
    },
    {
      "cell_type": "code",
      "metadata": {
        "id": "PxhC03Iv9JbJ",
        "colab_type": "code",
        "colab": {}
      },
      "source": [
        "# TODO: Dice loss"
      ],
      "execution_count": 0,
      "outputs": []
    },
    {
      "cell_type": "markdown",
      "metadata": {
        "id": "jHeQSXuxB3MA",
        "colab_type": "text"
      },
      "source": [
        "## Optimizer and Callbacks"
      ]
    },
    {
      "cell_type": "code",
      "metadata": {
        "id": "K4K9-_dF-vx7",
        "colab_type": "code",
        "colab": {}
      },
      "source": [
        "optimizer = tf.keras.optimizers.Adam()"
      ],
      "execution_count": 0,
      "outputs": []
    },
    {
      "cell_type": "markdown",
      "metadata": {
        "id": "DMVfiCfUJR9W",
        "colab_type": "text"
      },
      "source": [
        "## Hyper Parameters"
      ]
    },
    {
      "cell_type": "code",
      "metadata": {
        "id": "FHiDhgDHJX89",
        "colab_type": "code",
        "colab": {}
      },
      "source": [
        "BATCH_SIZE     = 8\n",
        "NUM_EPOCHS     = 5"
      ],
      "execution_count": 0,
      "outputs": []
    },
    {
      "cell_type": "markdown",
      "metadata": {
        "id": "3rcwJg2WJsEb",
        "colab_type": "text"
      },
      "source": [
        "## Helper Functions"
      ]
    },
    {
      "cell_type": "code",
      "metadata": {
        "id": "fXD1y7E-JwUZ",
        "colab_type": "code",
        "colab": {}
      },
      "source": [
        ""
      ],
      "execution_count": 0,
      "outputs": []
    },
    {
      "cell_type": "markdown",
      "metadata": {
        "id": "8vqN7H9pAxfw",
        "colab_type": "text"
      },
      "source": [
        "# Training"
      ]
    },
    {
      "cell_type": "code",
      "metadata": {
        "id": "gHn6uXR_A0EE",
        "colab_type": "code",
        "colab": {
          "base_uri": "https://localhost:8080/",
          "height": 187
        },
        "outputId": "837d2506-f7c3-4d2e-e44e-834bb8082dbc"
      },
      "source": [
        "model.compile(optimizer=optimizer, loss=loss_c, metrics=[accuracy, meanIoU])\n",
        "history = model.fit(x=x_train, y=y_train, batch_size=BATCH_SIZE, epochs=NUM_EPOCHS, validation_split=0.1765)"
      ],
      "execution_count": 14,
      "outputs": [
        {
          "output_type": "stream",
          "text": [
            "Epoch 1/5\n",
            "1/1 [==============================] - 1s 965ms/step - loss: 10.8959 - acc: 0.9937 - mIoU: 0.5880 - val_loss: 10.1361 - val_acc: 0.9963 - val_mIoU: 0.6120\n",
            "Epoch 2/5\n",
            "1/1 [==============================] - 0s 491ms/step - loss: 10.8039 - acc: 0.9960 - mIoU: 0.5967 - val_loss: 10.0907 - val_acc: 0.9963 - val_mIoU: 0.6131\n",
            "Epoch 3/5\n",
            "1/1 [==============================] - 0s 497ms/step - loss: 10.7674 - acc: 0.9960 - mIoU: 0.5975 - val_loss: 10.1167 - val_acc: 0.9963 - val_mIoU: 0.6126\n",
            "Epoch 4/5\n",
            "1/1 [==============================] - 0s 482ms/step - loss: 10.9149 - acc: 0.9960 - mIoU: 0.5942 - val_loss: 9.8915 - val_acc: 0.9964 - val_mIoU: 0.6179\n",
            "Epoch 5/5\n",
            "1/1 [==============================] - 0s 483ms/step - loss: 10.6793 - acc: 0.9961 - mIoU: 0.5995 - val_loss: 9.8158 - val_acc: 0.9964 - val_mIoU: 0.6197\n"
          ],
          "name": "stdout"
        }
      ]
    },
    {
      "cell_type": "markdown",
      "metadata": {
        "id": "485WQVV04CTc",
        "colab_type": "text"
      },
      "source": [
        "## Graphs"
      ]
    },
    {
      "cell_type": "code",
      "metadata": {
        "id": "Ed9rsxLFbZKo",
        "colab_type": "code",
        "colab": {
          "base_uri": "https://localhost:8080/",
          "height": 733
        },
        "outputId": "e7f0d10b-669f-4be8-8ac6-f1fce028d3fe"
      },
      "source": [
        "# Plot accuracy and loss plots\n",
        "\n",
        "fig, ax = plt.subplots(2, 2, figsize=(16, 12))\n",
        "ax[0, 0].set_title(\"Accuracy\")\n",
        "ax[0, 1].set_title(\"Val-Accuracy\")\n",
        "ax[1, 0].set_title(\"Loss\")\n",
        "ax[1, 1].set_title(\"Val-Loss\")\n",
        "\n",
        "ax[0, 0].plot(history.history['acc'])\n",
        "ax[0, 1].plot(history.history['val_acc'])\n",
        "ax[1, 0].plot(history.history['loss'])\n",
        "ax[1, 1].plot(history.history['val_loss'])"
      ],
      "execution_count": 12,
      "outputs": [
        {
          "output_type": "execute_result",
          "data": {
            "text/plain": [
              "[<matplotlib.lines.Line2D at 0x7f6ce61323c8>]"
            ]
          },
          "metadata": {
            "tags": []
          },
          "execution_count": 12
        },
        {
          "output_type": "display_data",
          "data": {
            "image/png": "[encoded data removed]",
            "text/plain": [
              "<Figure size 1152x864 with 4 Axes>"
            ]
          },
          "metadata": {
            "tags": [],
            "needs_background": "light"
          }
        }
      ]
    },
    {
      "cell_type": "markdown",
      "metadata": {
        "id": "inaq-7OmXrBT",
        "colab_type": "text"
      },
      "source": [
        "# Testing"
      ]
    },
    {
      "cell_type": "code",
      "metadata": {
        "id": "VKVDuTLBXuYC",
        "colab_type": "code",
        "colab": {
          "base_uri": "https://localhost:8080/",
          "height": 34
        },
        "outputId": "cf7e8589-17f6-42f9-f6aa-f787d46888c5"
      },
      "source": [
        "history_test = model.evaluate(x=x_test, y=y_test)"
      ],
      "execution_count": 13,
      "outputs": [
        {
          "output_type": "stream",
          "text": [
            "1/1 [==============================] - 0s 1ms/step - loss: 12.0619 - acc: 0.9867 - mIoU: 0.5689\n"
          ],
          "name": "stdout"
        }
      ]
    },
    {
      "cell_type": "markdown",
      "metadata": {
        "id": "1LaZOA8rXxh-",
        "colab_type": "text"
      },
      "source": [
        "# Prediction"
      ]
    },
    {
      "cell_type": "code",
      "metadata": {
        "id": "U5X_QCpqWhfo",
        "colab_type": "code",
        "colab": {}
      },
      "source": [
        "# Predict label map \n",
        "# label_map = np.argmax(fcn8s_model.predict(image), axis=-1)\n",
        "\n",
        "# Note:  maybe save the model after training and load for prediction? See Exam 1 for reference"
      ],
      "execution_count": 0,
      "outputs": []
    },
    {
      "cell_type": "markdown",
      "metadata": {
        "id": "QudgmvzZfaoF",
        "colab_type": "text"
      },
      "source": [
        "# Post-process Image"
      ]
    },
    {
      "cell_type": "code",
      "metadata": {
        "id": "Tw8VQXwFfdVj",
        "colab_type": "code",
        "outputId": "c4861c10-2cee-4d59-cbe6-b56363c88211",
        "colab": {
          "base_uri": "https://localhost:8080/",
          "height": 85
        }
      },
      "source": [
        "gpu = tf.test.is_gpu_available(\n",
        "    cuda_only=False, min_cuda_compute_capability=None\n",
        ")\n",
        "\n",
        "print(gpu)"
      ],
      "execution_count": 0,
      "outputs": [
        {
          "output_type": "stream",
          "text": [
            "WARNING:tensorflow:From <ipython-input-44-15a6ddfc2aa0>:2: is_gpu_available (from tensorflow.python.framework.test_util) is deprecated and will be removed in a future version.\n",
            "Instructions for updating:\n",
            "Use `tf.config.list_physical_devices('GPU')` instead.\n",
            "True\n"
          ],
          "name": "stdout"
        }
      ]
    },
    {
      "cell_type": "code",
      "metadata": {
        "id": "eTAIlJbV_LiH",
        "colab_type": "code",
        "colab": {}
      },
      "source": [
        ""
      ],
      "execution_count": 0,
      "outputs": []
    }
  ]
}