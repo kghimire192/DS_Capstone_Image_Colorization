{
  "nbformat": 4,
  "nbformat_minor": 0,
  "metadata": {
    "colab": {
      "name": "Model.ipynb",
      "provenance": []
    },
    "kernelspec": {
      "name": "python3",
      "display_name": "Python 3"
    },
    "accelerator": "GPU"
  },
  "cells": [
    {
      "cell_type": "markdown",
      "metadata": {
        "id": "TE2yzp0aCcy3",
        "colab_type": "text"
      },
      "source": [
        "# Image Colorization Using Deep Learning"
      ]
    },
    {
      "cell_type": "markdown",
      "metadata": {
        "id": "1ot-XHkK_drJ",
        "colab_type": "text"
      },
      "source": [
        "# Set-Up"
      ]
    },
    {
      "cell_type": "code",
      "metadata": {
        "id": "nwLqoa3G_Y-w",
        "colab_type": "code",
        "colab": {
          "base_uri": "https://localhost:8080/",
          "height": 34
        },
        "outputId": "426cb9a4-52c3-40e7-9f68-dc3068ef7385"
      },
      "source": [
        "import numpy as np\n",
        "import keras\n",
        "#import matplotlib.pyplot as plt\n",
        "import tensorflow as tf\n",
        "from tensorflow.keras.models import Model\n",
        "from tensorflow.keras.layers import *\n",
        "from tensorflow.keras.applications.vgg16 import *\n",
        "\n",
        "tf.random.set_seed(42) \n",
        "np.random.seed(42)"
      ],
      "execution_count": 1,
      "outputs": [
        {
          "output_type": "stream",
          "text": [
            "Using TensorFlow backend.\n"
          ],
          "name": "stderr"
        }
      ]
    },
    {
      "cell_type": "markdown",
      "metadata": {
        "id": "FPoe8aW-_wA-",
        "colab_type": "text"
      },
      "source": [
        "# Data Preparation"
      ]
    },
    {
      "cell_type": "markdown",
      "metadata": {
        "id": "9IyGz2WfKh0S",
        "colab_type": "text"
      },
      "source": [
        "## Key Variables"
      ]
    },
    {
      "cell_type": "code",
      "metadata": {
        "id": "Pixkg0KKbaEs",
        "colab_type": "code",
        "colab": {}
      },
      "source": [
        "IMG_SIZE     = [224, 224]\n",
        "#IMG_WIDTH     = 224\n",
        "#IMG_HEIGHT    = 224\n",
        "N_CHANNELS    = 3\n",
        "N_CLASSES     = 338\n",
        "#TEST_SIZE    = 0.15\n",
        "DATA_DIR   = \"/content/drive/My Drive/sample_10/\""
      ],
      "execution_count": 0,
      "outputs": []
    },
    {
      "cell_type": "markdown",
      "metadata": {
        "id": "VPFQLPW9fsv2",
        "colab_type": "text"
      },
      "source": [
        "## Loading Data"
      ]
    },
    {
      "cell_type": "code",
      "metadata": {
        "id": "96F2PDC_fiPR",
        "colab_type": "code",
        "colab": {}
      },
      "source": [
        "# Data preprocessing is already done, now load the .npy files to load train and test data\n",
        "\n",
        "x_train = np.load(file=DATA_DIR+\"x_train.npy\", allow_pickle=True)\n",
        "y_train = np.load(file= DATA_DIR+\"y_train.npy\", allow_pickle=True)\n",
        "\n",
        "#x_test = np.load(file=DATA_DIR+\"x_test.npy\", allow_pickle=True)\n",
        "#y_test = np.load(file=DATA_DIR+\"y_test.npy\", allow_pickle=True)"
      ],
      "execution_count": 0,
      "outputs": []
    },
    {
      "cell_type": "code",
      "metadata": {
        "id": "QgHl3gOKeKyN",
        "colab_type": "code",
        "colab": {
          "base_uri": "https://localhost:8080/",
          "height": 34
        },
        "outputId": "c8aee716-c386-45eb-8b38-89f2817ad1a8"
      },
      "source": [
        "print(len(x_train))"
      ],
      "execution_count": 4,
      "outputs": [
        {
          "output_type": "stream",
          "text": [
            "8\n"
          ],
          "name": "stdout"
        }
      ]
    },
    {
      "cell_type": "code",
      "metadata": {
        "id": "h_E90Bm-5EGT",
        "colab_type": "code",
        "colab": {
          "base_uri": "https://localhost:8080/",
          "height": 34
        },
        "outputId": "36d4ef22-c159-4f56-85fd-c2053207da5b"
      },
      "source": [
        "print(x_train.shape)"
      ],
      "execution_count": 5,
      "outputs": [
        {
          "output_type": "stream",
          "text": [
            "(8, 224, 224, 3)\n"
          ],
          "name": "stdout"
        }
      ]
    },
    {
      "cell_type": "code",
      "metadata": {
        "id": "jRKtLC9PyL6v",
        "colab_type": "code",
        "colab": {
          "base_uri": "https://localhost:8080/",
          "height": 34
        },
        "outputId": "3653a131-a33d-4dc8-a66e-c74dfbe0017f"
      },
      "source": [
        "print(y_train.shape)"
      ],
      "execution_count": 6,
      "outputs": [
        {
          "output_type": "stream",
          "text": [
            "(8, 224, 224)\n"
          ],
          "name": "stdout"
        }
      ]
    },
    {
      "cell_type": "code",
      "metadata": {
        "id": "1OkICFjmzLFh",
        "colab_type": "code",
        "colab": {
          "base_uri": "https://localhost:8080/",
          "height": 136
        },
        "outputId": "4df96cbc-8c3b-43f7-8406-aa54c9ad2998"
      },
      "source": [
        "print(y_train[0])"
      ],
      "execution_count": 7,
      "outputs": [
        {
          "output_type": "stream",
          "text": [
            "[[ 84  84  84 ... 112 112 112]\n",
            " [ 84  84  84 ... 112 112 112]\n",
            " [ 84  84  84 ... 112 112 112]\n",
            " ...\n",
            " [ 73  86  86 ...  73  86  85]\n",
            " [ 73  73  86 ...  73  86  85]\n",
            " [ 73  73  85 ...  73  86  86]]\n"
          ],
          "name": "stdout"
        }
      ]
    },
    {
      "cell_type": "code",
      "metadata": {
        "id": "o0DvUtk1yvXb",
        "colab_type": "code",
        "colab": {
          "base_uri": "https://localhost:8080/",
          "height": 34
        },
        "outputId": "911d9396-de65-418e-83fc-d20beed4aac4"
      },
      "source": [
        "y_train_new = tf.keras.utils.to_categorical(y=y_train, num_classes=N_CLASSES)\n",
        "print(y_train_new.shape)"
      ],
      "execution_count": 22,
      "outputs": [
        {
          "output_type": "stream",
          "text": [
            "(8, 224, 224, 338)\n"
          ],
          "name": "stdout"
        }
      ]
    },
    {
      "cell_type": "markdown",
      "metadata": {
        "id": "xnauy9TE_5Mr",
        "colab_type": "text"
      },
      "source": [
        "# Model Architecture"
      ]
    },
    {
      "cell_type": "markdown",
      "metadata": {
        "id": "rBAB4HucKHsN",
        "colab_type": "text"
      },
      "source": [
        "## Model Building"
      ]
    },
    {
      "cell_type": "code",
      "metadata": {
        "id": "MK5CXZC_U817",
        "colab_type": "code",
        "colab": {}
      },
      "source": [
        "def fcn_8s(image_size, ch_in=3, ch_out=3):\n",
        "    \"\"\"\n",
        "    Build a FCN-8s Keras model, with the VGG-16 layers pretrained on ImageNet.\n",
        "    :param image_size:  Image size (H x W)\n",
        "    :param ch_in:       Number of input channels\n",
        "    :param ch_out:      Number of output cannels\n",
        "    :return:            Keras model\n",
        "    \"\"\"\n",
        "    \n",
        "    inputs = Input(shape=(*image_size, ch_in), name='input')\n",
        "\n",
        "    # Building a pre-trained VGG-16 feature extractor (i.e., without the final FC layers)\n",
        "    vgg16 = VGG16(include_top=False, weights='imagenet', input_tensor=inputs)\n",
        "    # Recovering the feature maps generated by each of the 3 final blocks:\n",
        "    f3 = vgg16.get_layer('block3_pool').output  # shape: (28, 28, 256)\n",
        "    f4 = vgg16.get_layer('block4_pool').output  # shape: (14, 14, 512)\n",
        "    f5 = vgg16.get_layer('block5_pool').output  # shape: ( 7,  7, 512)\n",
        "\n",
        "    # Replacing VGG dense layers by convolutions:\n",
        "    f5_conv1 = Conv2D(filters=4086, kernel_size=7, padding='same',\n",
        "                      activation='relu')(f5)\n",
        "    f5_drop1 = Dropout(0.5)(f5_conv1)\n",
        "    f5_conv2 = Conv2D(filters=4086, kernel_size=1, padding='same',\n",
        "                      activation='relu')(f5_drop1)\n",
        "    f5_drop2 = Dropout(0.5)(f5_conv2)\n",
        "    f5_conv3 = Conv2D(filters=ch_out, kernel_size=1, padding='same',\n",
        "                      activation=None)(f5_drop2)\n",
        "\n",
        "\n",
        "    # Using a transposed conv (w/ s=2) to upscale `f5` into a 14 x 14 map\n",
        "    # so it can be merged with features from `f4_conv1` obtained from `f4`:\n",
        "    f5_conv3_x2 = Conv2DTranspose(filters=ch_out, kernel_size=4, strides=2,\n",
        "                                use_bias=False, padding='same', activation='relu')(f5)\n",
        "    f4_conv1 = Conv2D(filters=ch_out, kernel_size=1, padding='same',\n",
        "                      activation=None)(f4)\n",
        "\n",
        "    # Merging the 2 feature maps (addition):\n",
        "    merge1 = add([f4_conv1, f5_conv3_x2])\n",
        "\n",
        "    # We repeat the operation to merge `merge1` and `f3` into a 28 x 28 map:\n",
        "    merge1_x2 = Conv2DTranspose(filters=ch_out, kernel_size=4, strides=2,\n",
        "                                use_bias=False, padding='same', activation='relu')(merge1)\n",
        "    f3_conv1 = Conv2D(filters=ch_out, kernel_size=1, padding='same',\n",
        "                      activation=None)(f3)\n",
        "    merge2 = add([f3_conv1, merge1_x2])\n",
        "\n",
        "    # Finally, we use another transposed conv to decode and up-scale the feature map\n",
        "    # to the original shape, i.e., using a stride 8 to go from 28 x 28 to 224 x 224 here:\n",
        "    outputs = Conv2DTranspose(filters=ch_out, kernel_size=16, strides=8,\n",
        "                              padding='same', activation='softmax')(merge2)\n",
        "    \n",
        "    fcn8s_model = Model(inputs, outputs)\n",
        "    return fcn8s_model"
      ],
      "execution_count": 0,
      "outputs": []
    },
    {
      "cell_type": "markdown",
      "metadata": {
        "id": "HDQuw_w3KPtT",
        "colab_type": "text"
      },
      "source": [
        "## Model Instantiation and summary"
      ]
    },
    {
      "cell_type": "code",
      "metadata": {
        "id": "LoQtrJFDVLPl",
        "colab_type": "code",
        "outputId": "08107472-8fe4-4d9e-e83d-f47c97591f88",
        "colab": {
          "base_uri": "https://localhost:8080/",
          "height": 1000
        }
      },
      "source": [
        "fcn8s_model = fcn_8s(IMG_SIZE, N_CHANNELS, N_CLASSES)\n",
        "fcn8s_model.summary()"
      ],
      "execution_count": 10,
      "outputs": [
        {
          "output_type": "stream",
          "text": [
            "Model: \"model\"\n",
            "__________________________________________________________________________________________________\n",
            "Layer (type)                    Output Shape         Param #     Connected to                     \n",
            "==================================================================================================\n",
            "input (InputLayer)              [(None, 224, 224, 3) 0                                            \n",
            "__________________________________________________________________________________________________\n",
            "block1_conv1 (Conv2D)           (None, 224, 224, 64) 1792        input[0][0]                      \n",
            "__________________________________________________________________________________________________\n",
            "block1_conv2 (Conv2D)           (None, 224, 224, 64) 36928       block1_conv1[0][0]               \n",
            "__________________________________________________________________________________________________\n",
            "block1_pool (MaxPooling2D)      (None, 112, 112, 64) 0           block1_conv2[0][0]               \n",
            "__________________________________________________________________________________________________\n",
            "block2_conv1 (Conv2D)           (None, 112, 112, 128 73856       block1_pool[0][0]                \n",
            "__________________________________________________________________________________________________\n",
            "block2_conv2 (Conv2D)           (None, 112, 112, 128 147584      block2_conv1[0][0]               \n",
            "__________________________________________________________________________________________________\n",
            "block2_pool (MaxPooling2D)      (None, 56, 56, 128)  0           block2_conv2[0][0]               \n",
            "__________________________________________________________________________________________________\n",
            "block3_conv1 (Conv2D)           (None, 56, 56, 256)  295168      block2_pool[0][0]                \n",
            "__________________________________________________________________________________________________\n",
            "block3_conv2 (Conv2D)           (None, 56, 56, 256)  590080      block3_conv1[0][0]               \n",
            "__________________________________________________________________________________________________\n",
            "block3_conv3 (Conv2D)           (None, 56, 56, 256)  590080      block3_conv2[0][0]               \n",
            "__________________________________________________________________________________________________\n",
            "block3_pool (MaxPooling2D)      (None, 28, 28, 256)  0           block3_conv3[0][0]               \n",
            "__________________________________________________________________________________________________\n",
            "block4_conv1 (Conv2D)           (None, 28, 28, 512)  1180160     block3_pool[0][0]                \n",
            "__________________________________________________________________________________________________\n",
            "block4_conv2 (Conv2D)           (None, 28, 28, 512)  2359808     block4_conv1[0][0]               \n",
            "__________________________________________________________________________________________________\n",
            "block4_conv3 (Conv2D)           (None, 28, 28, 512)  2359808     block4_conv2[0][0]               \n",
            "__________________________________________________________________________________________________\n",
            "block4_pool (MaxPooling2D)      (None, 14, 14, 512)  0           block4_conv3[0][0]               \n",
            "__________________________________________________________________________________________________\n",
            "block5_conv1 (Conv2D)           (None, 14, 14, 512)  2359808     block4_pool[0][0]                \n",
            "__________________________________________________________________________________________________\n",
            "block5_conv2 (Conv2D)           (None, 14, 14, 512)  2359808     block5_conv1[0][0]               \n",
            "__________________________________________________________________________________________________\n",
            "block5_conv3 (Conv2D)           (None, 14, 14, 512)  2359808     block5_conv2[0][0]               \n",
            "__________________________________________________________________________________________________\n",
            "block5_pool (MaxPooling2D)      (None, 7, 7, 512)    0           block5_conv3[0][0]               \n",
            "__________________________________________________________________________________________________\n",
            "conv2d_3 (Conv2D)               (None, 14, 14, 338)  173394      block4_pool[0][0]                \n",
            "__________________________________________________________________________________________________\n",
            "conv2d_transpose (Conv2DTranspo (None, 14, 14, 338)  2768896     block5_pool[0][0]                \n",
            "__________________________________________________________________________________________________\n",
            "add (Add)                       (None, 14, 14, 338)  0           conv2d_3[0][0]                   \n",
            "                                                                 conv2d_transpose[0][0]           \n",
            "__________________________________________________________________________________________________\n",
            "conv2d_4 (Conv2D)               (None, 28, 28, 338)  86866       block3_pool[0][0]                \n",
            "__________________________________________________________________________________________________\n",
            "conv2d_transpose_1 (Conv2DTrans (None, 28, 28, 338)  1827904     add[0][0]                        \n",
            "__________________________________________________________________________________________________\n",
            "add_1 (Add)                     (None, 28, 28, 338)  0           conv2d_4[0][0]                   \n",
            "                                                                 conv2d_transpose_1[0][0]         \n",
            "__________________________________________________________________________________________________\n",
            "conv2d_transpose_2 (Conv2DTrans (None, 224, 224, 338 29246802    add_1[0][0]                      \n",
            "==================================================================================================\n",
            "Total params: 48,818,550\n",
            "Trainable params: 48,818,550\n",
            "Non-trainable params: 0\n",
            "__________________________________________________________________________________________________\n"
          ],
          "name": "stdout"
        }
      ]
    },
    {
      "cell_type": "markdown",
      "metadata": {
        "id": "QVrrGkiI6JoL",
        "colab_type": "text"
      },
      "source": [
        "# Training Preparation "
      ]
    },
    {
      "cell_type": "markdown",
      "metadata": {
        "id": "NFlTtLTv6TLa",
        "colab_type": "text"
      },
      "source": [
        "## Metrics and Loss"
      ]
    },
    {
      "cell_type": "markdown",
      "metadata": {
        "id": "-SgJJaSC6ije",
        "colab_type": "text"
      },
      "source": [
        "**Metrices:** Accuracy and IoU\n",
        "\n",
        "\n",
        "**Loss:** cross-entropy vs. Dice"
      ]
    },
    {
      "cell_type": "code",
      "metadata": {
        "id": "nys_Fa4Q9OO-",
        "colab_type": "code",
        "colab": {}
      },
      "source": [
        "accuracy = tf.metrics.Accuracy()\n",
        "meanIoU  = tf.metrics.MeanIoU(num_classes=N_CLASSES)\n",
        "#loss_c = tf.losses.SparseCategoricalCrossentropy()\n",
        "loss_c = tf.keras.losses.CategoricalCrossentropy()\n",
        "\n",
        "#loss_c = tf.keras.losses.SparseCategoricalCrossentropy()"
      ],
      "execution_count": 0,
      "outputs": []
    },
    {
      "cell_type": "markdown",
      "metadata": {
        "id": "iJ5JcscnDRYV",
        "colab_type": "text"
      },
      "source": [
        "Since we are doing multi-class classification task (pixel-level classification), we can use **cross-entropy loss**. However, to prevent the model from developing bias towards larger classes, **dice loss function** will be used because it is not affected by class proportions."
      ]
    },
    {
      "cell_type": "code",
      "metadata": {
        "id": "PxhC03Iv9JbJ",
        "colab_type": "code",
        "colab": {}
      },
      "source": [
        "# TODO: Dice loss"
      ],
      "execution_count": 0,
      "outputs": []
    },
    {
      "cell_type": "markdown",
      "metadata": {
        "id": "jHeQSXuxB3MA",
        "colab_type": "text"
      },
      "source": [
        "## Optimizer and Callbacks"
      ]
    },
    {
      "cell_type": "code",
      "metadata": {
        "id": "K4K9-_dF-vx7",
        "colab_type": "code",
        "colab": {}
      },
      "source": [
        "optimizer = tf.keras.optimizers.Adam()\n",
        "\n",
        "# TODO: Callbacks, Maybe no need of Callbacks.. just use history.history"
      ],
      "execution_count": 0,
      "outputs": []
    },
    {
      "cell_type": "markdown",
      "metadata": {
        "id": "DMVfiCfUJR9W",
        "colab_type": "text"
      },
      "source": [
        "## Hyper Parameters"
      ]
    },
    {
      "cell_type": "code",
      "metadata": {
        "id": "FHiDhgDHJX89",
        "colab_type": "code",
        "colab": {}
      },
      "source": [
        "BATCH_SIZE     = 8\n",
        "NUM_EPOCHS     = 1"
      ],
      "execution_count": 0,
      "outputs": []
    },
    {
      "cell_type": "markdown",
      "metadata": {
        "id": "3rcwJg2WJsEb",
        "colab_type": "text"
      },
      "source": [
        "## Helper Functions"
      ]
    },
    {
      "cell_type": "code",
      "metadata": {
        "id": "fXD1y7E-JwUZ",
        "colab_type": "code",
        "colab": {}
      },
      "source": [
        ""
      ],
      "execution_count": 0,
      "outputs": []
    },
    {
      "cell_type": "markdown",
      "metadata": {
        "id": "8vqN7H9pAxfw",
        "colab_type": "text"
      },
      "source": [
        "# Training"
      ]
    },
    {
      "cell_type": "code",
      "metadata": {
        "id": "gHn6uXR_A0EE",
        "colab_type": "code",
        "colab": {}
      },
      "source": [
        "fcn8s_model.compile(optimizer=optimizer, \n",
        "                    loss=loss_c, \n",
        "                    metrics=[accuracy, meanIoU])"
      ],
      "execution_count": 0,
      "outputs": []
    },
    {
      "cell_type": "code",
      "metadata": {
        "id": "41rwMiNmIBf7",
        "colab_type": "code",
        "colab": {}
      },
      "source": [
        "#y_train = keras.utils.to_categorical(y_train, N_CLASSES, \"int64\")"
      ],
      "execution_count": 0,
      "outputs": []
    },
    {
      "cell_type": "code",
      "metadata": {
        "id": "8Yeb6JWaWVhH",
        "colab_type": "code",
        "colab": {
          "base_uri": "https://localhost:8080/",
          "height": 71
        },
        "outputId": "272880dd-c76c-41b3-e257-7f94234afa6e"
      },
      "source": [
        "# Note: Train dataset is 85%, so saving 17.65% for validation set gives 70% train set, 15% validation set and 15% test set\n",
        "history = fcn8s_model.fit(\n",
        "    x=x_train, y=y_train_new, batch_size=BATCH_SIZE, epochs=NUM_EPOCHS, validation_split=0.1765 \n",
        ")\n",
        "\n",
        "print(history.history)"
      ],
      "execution_count": 26,
      "outputs": [
        {
          "output_type": "stream",
          "text": [
            "1/1 [==============================] - 2s 2s/step - loss: 16.0547 - accuracy: 0.8869 - mean_io_u_1: 0.4983 - val_loss: 13.4215 - val_accuracy: 0.9892 - val_mean_io_u_1: 0.5425\n",
            "{'loss': [16.05471420288086], 'accuracy': [0.8869365453720093], 'mean_io_u_1': [0.4982612431049347], 'val_loss': [13.421496391296387], 'val_accuracy': [0.9892381429672241], 'val_mean_io_u_1': [0.5424519777297974]}\n"
          ],
          "name": "stdout"
        }
      ]
    },
    {
      "cell_type": "code",
      "metadata": {
        "id": "Ed9rsxLFbZKo",
        "colab_type": "code",
        "colab": {}
      },
      "source": [
        "# Plot accuracy and loss plots\n",
        "\n",
        "'''\n",
        "fig, ax = plt.subplots(2, 2, figsize=(15, 10), sharex='col')\n",
        "ax[0, 0].set_title(\"loss\")\n",
        "ax[0, 1].set_title(\"val-loss\")\n",
        "ax[1, 0].set_title(\"acc\")\n",
        "ax[1, 1].set_title(\"val-acc\")\n",
        "\n",
        "ax[0, 0].plot(history.history['loss'])\n",
        "ax[0, 1].plot(history.history['val_loss'])\n",
        "ax[1, 0].plot(history.history['acc'])\n",
        "ax[1, 1].plot(history.history['val_acc'])'''"
      ],
      "execution_count": 0,
      "outputs": []
    },
    {
      "cell_type": "markdown",
      "metadata": {
        "id": "inaq-7OmXrBT",
        "colab_type": "text"
      },
      "source": [
        "# Testing"
      ]
    },
    {
      "cell_type": "code",
      "metadata": {
        "id": "VKVDuTLBXuYC",
        "colab_type": "code",
        "colab": {}
      },
      "source": [
        "# For test_dataset, model.evaluate() returns the loss value & metrics values for the model in test mode"
      ],
      "execution_count": 0,
      "outputs": []
    },
    {
      "cell_type": "markdown",
      "metadata": {
        "id": "1LaZOA8rXxh-",
        "colab_type": "text"
      },
      "source": [
        "# Prediction"
      ]
    },
    {
      "cell_type": "code",
      "metadata": {
        "id": "U5X_QCpqWhfo",
        "colab_type": "code",
        "colab": {}
      },
      "source": [
        "# Predict label map \n",
        "# label_map = np.argmax(fcn8s_model.predict(image), axis=-1)\n",
        "\n",
        "# Note:  maybe save the model after training and load for prediction? See Exam 1 for reference"
      ],
      "execution_count": 0,
      "outputs": []
    },
    {
      "cell_type": "markdown",
      "metadata": {
        "id": "QudgmvzZfaoF",
        "colab_type": "text"
      },
      "source": [
        "# Post-process Image"
      ]
    },
    {
      "cell_type": "code",
      "metadata": {
        "id": "Tw8VQXwFfdVj",
        "colab_type": "code",
        "colab": {
          "base_uri": "https://localhost:8080/",
          "height": 85
        },
        "outputId": "c4861c10-2cee-4d59-cbe6-b56363c88211"
      },
      "source": [
        "gpu = tf.test.is_gpu_available(\n",
        "    cuda_only=False, min_cuda_compute_capability=None\n",
        ")\n",
        "\n",
        "print(gpu)"
      ],
      "execution_count": 44,
      "outputs": [
        {
          "output_type": "stream",
          "text": [
            "WARNING:tensorflow:From <ipython-input-44-15a6ddfc2aa0>:2: is_gpu_available (from tensorflow.python.framework.test_util) is deprecated and will be removed in a future version.\n",
            "Instructions for updating:\n",
            "Use `tf.config.list_physical_devices('GPU')` instead.\n",
            "True\n"
          ],
          "name": "stdout"
        }
      ]
    },
    {
      "cell_type": "code",
      "metadata": {
        "id": "eTAIlJbV_LiH",
        "colab_type": "code",
        "colab": {}
      },
      "source": [
        ""
      ],
      "execution_count": 0,
      "outputs": []
    }
  ]
}