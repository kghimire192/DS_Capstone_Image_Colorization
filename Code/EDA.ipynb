{
  "nbformat": 4,
  "nbformat_minor": 0,
  "metadata": {
    "colab": {
      "name": "ImagePreprocessing.ipynb",
      "provenance": []
    },
    "kernelspec": {
      "name": "python3",
      "display_name": "Python 3"
    },
    "accelerator": "GPU"
  },
  "cells": [
    {
      "cell_type": "code",
      "metadata": {
        "id": "rtVFFr5m-u6m",
        "colab_type": "code",
        "outputId": "8ecb9b29-033b-4131-b5e0-a2504b1a070f",
        "colab": {
          "base_uri": "https://localhost:8080/",
          "height": 105
        }
      },
      "source": [
        "!pip install basic-image-eda"
      ],
      "execution_count": 4,
      "outputs": [
        {
          "output_type": "stream",
          "text": [
            "Collecting basic-image-eda\n",
            "  Downloading https://files.pythonhosted.org/packages/29/4f/f442861da1a9258173395b4811f0dcbde13f719be1f43888794e95c993e9/basic_image_eda-0.0.1-py3-none-any.whl\n",
            "Installing collected packages: basic-image-eda\n",
            "Successfully installed basic-image-eda-0.0.1\n"
          ],
          "name": "stdout"
        }
      ]
    },
    {
      "cell_type": "code",
      "metadata": {
        "id": "P5WqPlsN-yxW",
        "colab_type": "code",
        "colab": {}
      },
      "source": [
        "DATA_DIR = '/content/drive/My Drive/capstone_data'"
      ],
      "execution_count": 0,
      "outputs": []
    },
    {
      "cell_type": "code",
      "metadata": {
        "id": "iQNgI-0k_9sp",
        "colab_type": "code",
        "colab": {}
      },
      "source": [
        "from basic_image_eda import BasicImageEDA"
      ],
      "execution_count": 0,
      "outputs": []
    },
    {
      "cell_type": "code",
      "metadata": {
        "id": "GcK-CEzRAR-B",
        "colab_type": "code",
        "colab": {
          "base_uri": "https://localhost:8080/",
          "height": 34
        },
        "outputId": "57870cb2-5873-4069-b87d-a9145f4489dc"
      },
      "source": [
        "import os\n",
        "\n",
        "images_list = list()\n",
        "\n",
        "for root, dirs, files in os.walk(DATA_DIR):\n",
        "    for file in files:\n",
        "      images_list.append(file)\n",
        "\n",
        "print(len(images_list))"
      ],
      "execution_count": 7,
      "outputs": [
        {
          "output_type": "stream",
          "text": [
            "19000\n"
          ],
          "name": "stdout"
        }
      ]
    },
    {
      "cell_type": "code",
      "metadata": {
        "id": "B2EreFhZAtXg",
        "colab_type": "code",
        "colab": {
          "base_uri": "https://localhost:8080/",
          "height": 938
        },
        "outputId": "e56c7951-2093-4285-bc24-51d5ef2dc8b9"
      },
      "source": [
        "if __name__ == \"__main__\":  # for multiprocessing\n",
        "\n",
        "    data_dir = DATA_DIR\n",
        "\n",
        "    # below are default values. \n",
        "    extensions = ['jpg']\n",
        "    threads = 0\n",
        "    dimension_plot = True\n",
        "    channel_hist = False\n",
        "    nonzero = False\n",
        "\n",
        "    BasicImageEDA.explore(data_dir, extensions, threads, dimension_plot, channel_hist, nonzero)"
      ],
      "execution_count": 8,
      "outputs": [
        {
          "output_type": "stream",
          "text": [
            "\n",
            "found 19000 images.\n"
          ],
          "name": "stdout"
        },
        {
          "output_type": "stream",
          "text": [
            "\r  0%|          | 0/19000 [00:00<?, ?it/s]"
          ],
          "name": "stderr"
        },
        {
          "output_type": "stream",
          "text": [
            "Using 2 threads.\n",
            "\n"
          ],
          "name": "stdout"
        },
        {
          "output_type": "stream",
          "text": [
            "100%|██████████| 19000/19000 [1:55:08<00:00,  2.75it/s]\n"
          ],
          "name": "stderr"
        },
        {
          "output_type": "stream",
          "text": [
            "\n",
            "*--------------------------------------------------------------------------------------*\n",
            "number of images          |  19000\n",
            "\n",
            "dtype                     |  uint8\n",
            "channels                  |  [1, 3]\n",
            "extensions                |  ['jpg']\n",
            "\n",
            "min height                |  262\n",
            "mean height               |  541.2\n",
            "max height                |  1024\n",
            "\n",
            "min width                 |  398\n",
            "mean width                |  692.6525789473684\n",
            "max width                 |  3360\n",
            "\n",
            "mean height/width ratio   |  0.7813440914671357\n",
            "recommended input size    |  [544 696] (h x w, multiples of 8)\n",
            "recommended input size    |  [544 688] (h x w, multiples of 16)\n",
            "recommended input size    |  [544 704] (h x w, multiples of 32)\n",
            "\n",
            "channel mean(0~1)         |  [0.46192502 0.48440275 0.45826672]\n",
            "channel std(0~1)          |  [0.26391098 0.26339387 0.30651577]\n",
            "*--------------------------------------------------------------------------------------*\n",
            "eda ended in 01 hours 55 minutes 08 seconds\n"
          ],
          "name": "stdout"
        },
        {
          "output_type": "display_data",
          "data": {
            "image/png": "[encoded data removed]",
            "text/plain": [
              "<Figure size 576x432 with 1 Axes>"
            ]
          },
          "metadata": {
            "tags": []
          }
        }
      ]
    },
    {
      "cell_type": "code",
      "metadata": {
        "id": "QwwrGEVAA8vI",
        "colab_type": "code",
        "colab": {}
      },
      "source": [
        ""
      ],
      "execution_count": 0,
      "outputs": []
    }
  ]
}